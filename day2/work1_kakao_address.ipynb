{
 "cells": [
  {
   "cell_type": "markdown",
   "id": "f9dea1b1",
   "metadata": {},
   "source": [
    "### MISSION\n",
    "- 카카오 API 사용해서 주소를 입력하면 > 위도, 경도, 우편번호 출력 \n",
    "- 또는 반대로 동작하는 프로그램 작성\n",
    "- 카카오 디벨로퍼스에서는 REST API키 사용 > 문서에서 로컬 > 개발가이드 탭 확인"
   ]
  },
  {
   "cell_type": "markdown",
   "id": "ba456126",
   "metadata": {},
   "source": [
    "### 주소 > 위도, 경도, 우편번호"
   ]
  },
  {
   "cell_type": "code",
   "execution_count": 71,
   "id": "6fd93f77",
   "metadata": {},
   "outputs": [],
   "source": [
    "import pandas as pd\n",
    "import requests"
   ]
  },
  {
   "cell_type": "code",
   "execution_count": 72,
   "id": "4a32e2c6",
   "metadata": {},
   "outputs": [],
   "source": [
    "# 1. url > json(str)"
   ]
  },
  {
   "cell_type": "code",
   "execution_count": 73,
   "id": "f6374d2b",
   "metadata": {},
   "outputs": [],
   "source": [
    "REST_API_KEY = ''\n",
    "txt = \"경기 성남시 분당구 정자동 206\""
   ]
  },
  {
   "cell_type": "code",
   "execution_count": 74,
   "id": "4c3d23ad",
   "metadata": {},
   "outputs": [],
   "source": [
    "url = f'https://dapi.kakao.com/v2/local/search/address.json?query={txt}'\n",
    "\n",
    "headers = {\n",
    "    \"Authorization\": f'KakaoAK {REST_API_KEY}'\n",
    "}"
   ]
  },
  {
   "cell_type": "code",
   "execution_count": 75,
   "id": "f339a7e0",
   "metadata": {},
   "outputs": [
    {
     "data": {
      "text/plain": [
       "<Response [200]>"
      ]
     },
     "execution_count": 75,
     "metadata": {},
     "output_type": "execute_result"
    }
   ],
   "source": [
    "response = requests.get(url,headers=headers)\n",
    "response"
   ]
  },
  {
   "cell_type": "code",
   "execution_count": 76,
   "id": "62440648",
   "metadata": {},
   "outputs": [
    {
     "data": {
      "text/plain": [
       "'{\"documents\":[{\"address\":{\"address_name\":\"경기 성남시 분당구 정자동 206\",\"b_code\":\"4113510300\",\"h_code\":\"4113557000\",\"main_address_no\":\"206\",\"mountain_yn\":\"N\",\"region_1depth_name\":\"경기\",\"region_2depth_name\":\"성남시 분당구\",\"region_3depth_h_name\":\"정자3동\",\"region_3depth_name\":\"정자동\",\"sub_address_no\":\"\",\"x\":\"127.114817335165\",\"y\":\"37.3588931114945\"},\"address_name\":\"경기 성남시 분당구 정자동 206\",\"address_type\":\"REGION_ADDR\",\"road_address\":{\"address_name\":\"경기 성남시 분당구 불정로 90\",\"building_name\":\"KT본사\",\"main_building_no\":\"90\",\"region_1depth_name\":\"경기\",\"region_2depth_name\":\"성남시 분당구\",\"region_3depth_name\":\"정자동\",\"road_name\":\"불정로\",\"sub_building_no\":\"\",\"underground_yn\":\"N\",\"x\":\"127.114936252016\",\"y\":\"37.3587823498654\",\"zone_no\":\"13606\"},\"x\":\"127.114817335165\",\"y\":\"37.3588931114945\"}],\"meta\":{\"is_end\":true,\"pageable_count\":1,\"total_count\":1}}'"
      ]
     },
     "execution_count": 76,
     "metadata": {},
     "output_type": "execute_result"
    }
   ],
   "source": [
    "response.text"
   ]
  },
  {
   "cell_type": "code",
   "execution_count": 77,
   "id": "ac12cc9d",
   "metadata": {},
   "outputs": [],
   "source": [
    "# json(str) > list, dict"
   ]
  },
  {
   "cell_type": "code",
   "execution_count": 78,
   "id": "aa11f7b2",
   "metadata": {},
   "outputs": [
    {
     "data": {
      "text/plain": [
       "{'address_name': '경기 성남시 분당구 불정로 90',\n",
       " 'building_name': 'KT본사',\n",
       " 'main_building_no': '90',\n",
       " 'region_1depth_name': '경기',\n",
       " 'region_2depth_name': '성남시 분당구',\n",
       " 'region_3depth_name': '정자동',\n",
       " 'road_name': '불정로',\n",
       " 'sub_building_no': '',\n",
       " 'underground_yn': 'N',\n",
       " 'x': '127.114936252016',\n",
       " 'y': '37.3587823498654',\n",
       " 'zone_no': '13606'}"
      ]
     },
     "execution_count": 78,
     "metadata": {},
     "output_type": "execute_result"
    }
   ],
   "source": [
    "data = response.json()\n",
    "data['documents'][0]['road_address']"
   ]
  },
  {
   "cell_type": "code",
   "execution_count": 79,
   "id": "23b31189",
   "metadata": {},
   "outputs": [
    {
     "data": {
      "text/plain": [
       "{'address_name': '경기 성남시 분당구 불정로 90',\n",
       " 'building_name': 'KT본사',\n",
       " 'main_building_no': '90',\n",
       " 'region_1depth_name': '경기',\n",
       " 'region_2depth_name': '성남시 분당구',\n",
       " 'region_3depth_name': '정자동',\n",
       " 'road_name': '불정로',\n",
       " 'sub_building_no': '',\n",
       " 'underground_yn': 'N',\n",
       " 'x': '127.114936252016',\n",
       " 'y': '37.3587823498654',\n",
       " 'zone_no': '13606'}"
      ]
     },
     "execution_count": 79,
     "metadata": {},
     "output_type": "execute_result"
    }
   ],
   "source": [
    "data = data['documents'][0]['road_address']\n",
    "data"
   ]
  },
  {
   "cell_type": "code",
   "execution_count": 80,
   "id": "67664707",
   "metadata": {},
   "outputs": [
    {
     "data": {
      "text/plain": [
       "'127.114936252016'"
      ]
     },
     "metadata": {},
     "output_type": "display_data"
    },
    {
     "data": {
      "text/plain": [
       "'37.3587823498654'"
      ]
     },
     "metadata": {},
     "output_type": "display_data"
    },
    {
     "data": {
      "text/plain": [
       "'13606'"
      ]
     },
     "metadata": {},
     "output_type": "display_data"
    }
   ],
   "source": [
    "display(data['x'], data['y'], data['zone_no'])"
   ]
  },
  {
   "cell_type": "markdown",
   "id": "a7a82114",
   "metadata": {},
   "source": [
    "### 함수로 작성 (주소 > 위도, 경도, 우편번호)"
   ]
  },
  {
   "cell_type": "code",
   "execution_count": 81,
   "id": "6c16c9c6",
   "metadata": {},
   "outputs": [],
   "source": [
    "def get_x_y_zoneNo(addr):\n",
    "    REST_API_KEY = ''\n",
    "    url = f'https://dapi.kakao.com/v2/local/search/address.json?query={addr}'\n",
    "\n",
    "    headers = {\n",
    "        \"Authorization\": f'KakaoAK {REST_API_KEY}'\n",
    "    }\n",
    "    \n",
    "    response = requests.get(url,headers=headers)\n",
    "    data = response.json()\n",
    "    \n",
    "    data = data['documents'][0]['road_address']\n",
    "    \n",
    "    return data['x'], data['y'], data['zone_no']"
   ]
  },
  {
   "cell_type": "code",
   "execution_count": 82,
   "id": "9e786c63",
   "metadata": {},
   "outputs": [
    {
     "data": {
      "text/plain": [
       "('127.114936252016', '37.3587823498654', '13606')"
      ]
     },
     "execution_count": 82,
     "metadata": {},
     "output_type": "execute_result"
    }
   ],
   "source": [
    "get_x_y_zoneNo(\"경기 성남시 분당구 정자동 206\")"
   ]
  },
  {
   "cell_type": "markdown",
   "id": "cd1b8087",
   "metadata": {},
   "source": [
    "### 위도, 경도로 주소 변환"
   ]
  },
  {
   "cell_type": "code",
   "execution_count": 84,
   "id": "93326da4",
   "metadata": {},
   "outputs": [],
   "source": [
    "REST_API_KEY = ''\n",
    "x, y = '127.114936252016', '37.3587823498654'\n",
    "url = f\"https://dapi.kakao.com/v2/local/geo/coord2address.json\\\n",
    "?x={x}&y={y}&input_coord=WGS84\"\n",
    "\n",
    "headers = {\n",
    "    \"Authorization\": f'KakaoAK {REST_API_KEY}'\n",
    "}"
   ]
  },
  {
   "cell_type": "code",
   "execution_count": 86,
   "id": "8c1cd73e",
   "metadata": {},
   "outputs": [
    {
     "data": {
      "text/plain": [
       "<Response [200]>"
      ]
     },
     "execution_count": 86,
     "metadata": {},
     "output_type": "execute_result"
    }
   ],
   "source": [
    "response = requests.get(url, headers=headers)\n",
    "response"
   ]
  },
  {
   "cell_type": "code",
   "execution_count": 87,
   "id": "11edb7f1",
   "metadata": {},
   "outputs": [
    {
     "data": {
      "text/plain": [
       "{'meta': {'total_count': 1},\n",
       " 'documents': [{'road_address': {'address_name': '경기도 성남시 분당구 불정로 90',\n",
       "    'region_1depth_name': '경기',\n",
       "    'region_2depth_name': '성남시 분당구',\n",
       "    'region_3depth_name': '',\n",
       "    'road_name': '불정로',\n",
       "    'underground_yn': 'N',\n",
       "    'main_building_no': '90',\n",
       "    'sub_building_no': '',\n",
       "    'building_name': 'KT본사',\n",
       "    'zone_no': '13606'},\n",
       "   'address': {'address_name': '경기 성남시 분당구 정자동 206',\n",
       "    'region_1depth_name': '경기',\n",
       "    'region_2depth_name': '성남시 분당구',\n",
       "    'region_3depth_name': '정자동',\n",
       "    'mountain_yn': 'N',\n",
       "    'main_address_no': '206',\n",
       "    'sub_address_no': '',\n",
       "    'zip_code': ''}}]}"
      ]
     },
     "execution_count": 87,
     "metadata": {},
     "output_type": "execute_result"
    }
   ],
   "source": [
    "data = response.json()\n",
    "data"
   ]
  },
  {
   "cell_type": "code",
   "execution_count": 90,
   "id": "bdb78db7",
   "metadata": {},
   "outputs": [
    {
     "data": {
      "text/plain": [
       "'경기도 성남시 분당구 불정로 90'"
      ]
     },
     "execution_count": 90,
     "metadata": {},
     "output_type": "execute_result"
    }
   ],
   "source": [
    "data['documents'][0]['road_address']['address_name']"
   ]
  },
  {
   "cell_type": "code",
   "execution_count": 91,
   "id": "b89e60ee",
   "metadata": {},
   "outputs": [],
   "source": [
    "def get_addr(x, y):\n",
    "    REST_API_KEY = ''\n",
    "    url = f\"https://dapi.kakao.com/v2/local/geo/coord2address.json\\\n",
    "?x={x}&y={y}&input_coord=WGS84\"\n",
    "    \n",
    "    headers = {\n",
    "        \"Authorization\": f'KakaoAK {REST_API_KEY}'\n",
    "    }\n",
    "    response = requests.get(url, headers=headers)\n",
    "    data = response.json()\n",
    "    \n",
    "    return data['documents'][0]['road_address']['address_name']"
   ]
  },
  {
   "cell_type": "code",
   "execution_count": 92,
   "id": "28fb0b92",
   "metadata": {},
   "outputs": [
    {
     "data": {
      "text/plain": [
       "'경기도 성남시 분당구 불정로 90'"
      ]
     },
     "execution_count": 92,
     "metadata": {},
     "output_type": "execute_result"
    }
   ],
   "source": [
    "x, y = '127.114936252016', '37.3587823498654'\n",
    "get_addr(x, y)"
   ]
  }
 ],
 "metadata": {
  "kernelspec": {
   "display_name": "Python 3",
   "language": "python",
   "name": "python3"
  },
  "language_info": {
   "codemirror_mode": {
    "name": "ipython",
    "version": 3
   },
   "file_extension": ".py",
   "mimetype": "text/x-python",
   "name": "python",
   "nbconvert_exporter": "python",
   "pygments_lexer": "ipython3",
   "version": "3.8.8"
  }
 },
 "nbformat": 4,
 "nbformat_minor": 5
}
