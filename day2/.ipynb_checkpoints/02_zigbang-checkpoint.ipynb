{
 "cells": [
  {
   "cell_type": "markdown",
   "id": "7012b96a",
   "metadata": {},
   "source": [
    "### 직방의 원룸 매물정보 수집\n",
    "- 절차\n",
    "    - 동이름으로 > 위도, 경도 수집\n",
    "    - 위도,경도로 > geohash 변환 (geohash 값이란 위도 경도를 범위로 변환해주는?)\n",
    "    - geohash(영역) > 매물 아이디 수집\n",
    "    - 매물 아이디 > 매물 정보 수집"
   ]
  },
  {
   "cell_type": "code",
   "execution_count": 3,
   "id": "6d6b6ee8",
   "metadata": {},
   "outputs": [],
   "source": [
    "import requests\n",
    "import pandas as pd\n",
    "import geohash2"
   ]
  },
  {
   "cell_type": "code",
   "execution_count": 2,
   "id": "db71bc5f",
   "metadata": {},
   "outputs": [
    {
     "name": "stdout",
     "output_type": "stream",
     "text": [
      "Collecting geohash2\n",
      "  Downloading geohash2-1.1.tar.gz (15 kB)\n",
      "Requirement already satisfied: docutils>=0.3 in c:\\users\\user\\anaconda3\\lib\\site-packages (from geohash2) (0.17)\n",
      "Building wheels for collected packages: geohash2\n",
      "  Building wheel for geohash2 (setup.py): started\n",
      "  Building wheel for geohash2 (setup.py): finished with status 'done'\n",
      "  Created wheel for geohash2: filename=geohash2-1.1-py3-none-any.whl size=15544 sha256=0c698f6462f6e1b2a0598c5906aa38a54823a01e8be92ddc3b6abd6a035fe414\n",
      "  Stored in directory: c:\\users\\user\\appdata\\local\\pip\\cache\\wheels\\2d\\0c\\66\\dcd768c9e7c26fc81ec59bfe24af9d780fc9dbdf7f90b0cf00\n",
      "Successfully built geohash2\n",
      "Installing collected packages: geohash2\n",
      "Successfully installed geohash2-1.1\n"
     ]
    }
   ],
   "source": [
    "# !pip install geohash2"
   ]
  },
  {
   "cell_type": "code",
   "execution_count": null,
   "id": "125e5dcb",
   "metadata": {},
   "outputs": [],
   "source": [
    "# 1. 동 이름 > 위도, 경도"
   ]
  },
  {
   "cell_type": "code",
   "execution_count": 4,
   "id": "bcb1c0c1",
   "metadata": {},
   "outputs": [
    {
     "data": {
      "text/plain": [
       "<Response [200]>"
      ]
     },
     "execution_count": 4,
     "metadata": {},
     "output_type": "execute_result"
    }
   ],
   "source": [
    "# 인코딩 되어있는 한글을 url 인코딩 사이트에서 번역하여 한글로 디코딩하여 url 진행\n",
    "addr = '강남구 역삼동'\n",
    "url = f'https://apis.zigbang.com/v2/search?leaseYn=N&q={addr}&serviceType=원룸'\n",
    "response = requests.get(url)\n",
    "response"
   ]
  },
  {
   "cell_type": "code",
   "execution_count": 5,
   "id": "b1531489",
   "metadata": {},
   "outputs": [
    {
     "data": {
      "text/plain": [
       "'{\"success\":true,\"code\":\"200\",\"items\":[{\"id\":3755,\"type\":\"address\",\"name\":\"역삼동\",\"hint\":\"\",\"description\":\"서울시 강남구 역삼동\",\"lat\":37.495365142822266,\"lng\":127.03306579589844,\"zoom\":5,\"polygon\":[],\"_score\":null,\"_source\":{\"name_length\":3,\"local1\":\"서울시\",\"local2\":\"강남구\",\"local3\":\"역삼동\",\"web_level\":15,\"web_lat\":37.495365142822266,\"web_lng\":127.03306579589844,\"app_level\":15,\"app_lat\":37.495365142822266,\"app_lng\":127.03306579589844,\"법정동코드\":\"1168010100\"},\"zoom_level\":{\"google\":15,\"daum\":4},\"zoom_level_v2\":{\"app\":5,\"web\":4}}],\"next\":null,\"limit\":0}'"
      ]
     },
     "execution_count": 5,
     "metadata": {},
     "output_type": "execute_result"
    }
   ],
   "source": [
    "response.text"
   ]
  },
  {
   "cell_type": "code",
   "execution_count": 10,
   "id": "cf07ce2c",
   "metadata": {},
   "outputs": [
    {
     "data": {
      "text/plain": [
       "(37.495365142822266, 127.03306579589844)"
      ]
     },
     "execution_count": 10,
     "metadata": {},
     "output_type": "execute_result"
    }
   ],
   "source": [
    "response.json()\n",
    "response.json()['items'][0]\n",
    "data = response.json()['items'][0]\n",
    "lat, lng = data['lat'], data['lng']\n",
    "lat, lng"
   ]
  },
  {
   "cell_type": "code",
   "execution_count": null,
   "id": "2694b6fe",
   "metadata": {},
   "outputs": [],
   "source": [
    "# 2. 위도, 경도 > geohash"
   ]
  },
  {
   "cell_type": "code",
   "execution_count": 12,
   "id": "7237be53",
   "metadata": {},
   "outputs": [
    {
     "data": {
      "text/plain": [
       "'wydm6'"
      ]
     },
     "execution_count": 12,
     "metadata": {},
     "output_type": "execute_result"
    }
   ],
   "source": [
    "#help 메서드 or shift+tap으로 사용방법 확인 가능\n",
    "geohash = geohash2.encode(lat,lng,precision=5)\n",
    "geohash"
   ]
  },
  {
   "cell_type": "code",
   "execution_count": null,
   "id": "093f881c",
   "metadata": {},
   "outputs": [],
   "source": [
    "# 3. geohash > 매물 아이디"
   ]
  },
  {
   "cell_type": "code",
   "execution_count": 14,
   "id": "657bec15",
   "metadata": {},
   "outputs": [
    {
     "data": {
      "text/plain": [
       "'https://apis.zigbang.com/v2/items?deposit_gteq=0&domain=zigbang&geohash=wydm6&needHasNoFiltered=true&rent_gteq=0&sales_type_in=전세|월세&service_type_eq=원룸'"
      ]
     },
     "execution_count": 14,
     "metadata": {},
     "output_type": "execute_result"
    }
   ],
   "source": [
    "# 역슬래쉬 \\ 사용하여 코드가 길때 개행문자로 사용 가능\n",
    "url = f'https://apis.zigbang.com/v2/items?deposit_gteq=0&domain=zigbang\\\n",
    "&geohash={geohash}&needHasNoFiltered=true&rent_gteq=0&sales_type_in=전세|월세&service_type_eq=원룸'\n",
    "url"
   ]
  },
  {
   "cell_type": "code",
   "execution_count": 15,
   "id": "23e2466d",
   "metadata": {},
   "outputs": [
    {
     "data": {
      "text/plain": [
       "<Response [200]>"
      ]
     },
     "execution_count": 15,
     "metadata": {},
     "output_type": "execute_result"
    }
   ],
   "source": [
    "response = requests.get(url)\n",
    "response"
   ]
  },
  {
   "cell_type": "code",
   "execution_count": 19,
   "id": "742465ce",
   "metadata": {},
   "outputs": [
    {
     "data": {
      "text/plain": [
       "[{'lat': 37.485141261794524, 'lng': 127.01296495741643, 'item_id': 32819635},\n",
       " {'lat': 37.485627384450254, 'lng': 127.0136283391101, 'item_id': 32838798}]"
      ]
     },
     "execution_count": 19,
     "metadata": {},
     "output_type": "execute_result"
    }
   ],
   "source": [
    "items = response.json()['items']\n",
    "items[:2]"
   ]
  },
  {
   "cell_type": "code",
   "execution_count": 22,
   "id": "78f21592",
   "metadata": {},
   "outputs": [
    {
     "data": {
      "text/plain": [
       "[32819635, 32838798]"
      ]
     },
     "execution_count": 22,
     "metadata": {},
     "output_type": "execute_result"
    }
   ],
   "source": [
    "ids = [item['item_id'] for item in items]\n",
    "ids[:2]"
   ]
  },
  {
   "cell_type": "code",
   "execution_count": null,
   "id": "3d2bf9b7",
   "metadata": {},
   "outputs": [],
   "source": [
    "# 4. 매물 아이디 > 매물 정보"
   ]
  },
  {
   "cell_type": "code",
   "execution_count": 24,
   "id": "60d905b6",
   "metadata": {},
   "outputs": [
    {
     "data": {
      "text/plain": [
       "<Response [200]>"
      ]
     },
     "execution_count": 24,
     "metadata": {},
     "output_type": "execute_result"
    }
   ],
   "source": [
    "#post 방식으로 되어있을때는 payload를 넣어주어야 한다 > 개발자도구 payload 확인\n",
    "# post 방식에서는 url에 데이터를 따로 보내지 않기 때문에 params에 데이터를 설정해야 한다.\n",
    "\n",
    "url = 'https://apis.zigbang.com/v2/items/list'\n",
    "params = {\n",
    "    'domain' : 'zigbang',\n",
    "    'withCoalition' : 'true',\n",
    "    'item_ids': ids[:900]\n",
    "}\n",
    "\n",
    "response = requests.post(url,params)\n",
    "response"
   ]
  },
  {
   "cell_type": "code",
   "execution_count": 25,
   "id": "bc6eaf0d",
   "metadata": {},
   "outputs": [
    {
     "data": {
      "text/html": [
       "<div>\n",
       "<style scoped>\n",
       "    .dataframe tbody tr th:only-of-type {\n",
       "        vertical-align: middle;\n",
       "    }\n",
       "\n",
       "    .dataframe tbody tr th {\n",
       "        vertical-align: top;\n",
       "    }\n",
       "\n",
       "    .dataframe thead th {\n",
       "        text-align: right;\n",
       "    }\n",
       "</style>\n",
       "<table border=\"1\" class=\"dataframe\">\n",
       "  <thead>\n",
       "    <tr style=\"text-align: right;\">\n",
       "      <th></th>\n",
       "      <th>item_id</th>\n",
       "      <th>sales_type</th>\n",
       "      <th>deposit</th>\n",
       "      <th>rent</th>\n",
       "      <th>size_m2</th>\n",
       "      <th>address1</th>\n",
       "      <th>manage_cost</th>\n",
       "    </tr>\n",
       "  </thead>\n",
       "  <tbody>\n",
       "    <tr>\n",
       "      <th>898</th>\n",
       "      <td>32844154</td>\n",
       "      <td>월세</td>\n",
       "      <td>100</td>\n",
       "      <td>100</td>\n",
       "      <td>29.75</td>\n",
       "      <td>서울시 강남구 역삼동</td>\n",
       "      <td>9</td>\n",
       "    </tr>\n",
       "    <tr>\n",
       "      <th>899</th>\n",
       "      <td>32656329</td>\n",
       "      <td>전세</td>\n",
       "      <td>24000</td>\n",
       "      <td>0</td>\n",
       "      <td>59.50</td>\n",
       "      <td>서울시 강남구 역삼동</td>\n",
       "      <td>10</td>\n",
       "    </tr>\n",
       "  </tbody>\n",
       "</table>\n",
       "</div>"
      ],
      "text/plain": [
       "      item_id sales_type  deposit  rent  size_m2     address1 manage_cost\n",
       "898  32844154         월세      100   100    29.75  서울시 강남구 역삼동           9\n",
       "899  32656329         전세    24000     0    59.50  서울시 강남구 역삼동          10"
      ]
     },
     "execution_count": 25,
     "metadata": {},
     "output_type": "execute_result"
    }
   ],
   "source": [
    "items = response.json()['items']\n",
    "columns = ['item_id','sales_type','deposit','rent','size_m2','address1','manage_cost']\n",
    "df = pd.DataFrame(items)[columns]\n",
    "df.tail(2)"
   ]
  },
  {
   "cell_type": "code",
   "execution_count": 26,
   "id": "ca2355a6",
   "metadata": {},
   "outputs": [],
   "source": [
    "# column수가 많으면 중간에 ...이 나와 열 정보가 끊긴다 >> 이를 해결하기 위해\n",
    "# pd.options.display.max_columns = 50 으로 개수를 번경 가능\n",
    "# pd.options.display.max_raw = 50 으로 개수를 번경 가능"
   ]
  },
  {
   "cell_type": "markdown",
   "id": "39cf015b",
   "metadata": {},
   "source": [
    "### 함수로 만들기"
   ]
  },
  {
   "cell_type": "code",
   "execution_count": 27,
   "id": "15d3290d",
   "metadata": {},
   "outputs": [],
   "source": [
    "def oneroom(addr):\n",
    "    url = f'https://apis.zigbang.com/v2/search?leaseYn=N&q={addr}&serviceType=원룸'\n",
    "    response = requests.get(url)\n",
    "    data = response.json()['items'][0]\n",
    "    lat, lng = data['lat'], data['lng']\n",
    "    \n",
    "    geohash = geohash2.encode(lat,lng,precision=5)\n",
    "    \n",
    "    url = f'https://apis.zigbang.com/v2/items?deposit_gteq=0&domain=zigbang\\\n",
    "&geohash={geohash}&needHasNoFiltered=true&rent_gteq=0&sales_type_in=전세|월세&service_type_eq=원룸'\n",
    "    \n",
    "    response = requests.get(url)\n",
    "    items = response.json()['items']\n",
    "    ids = [item['item_id'] for item in items]\n",
    "    \n",
    "    url = 'https://apis.zigbang.com/v2/items/list'\n",
    "    params = {\n",
    "        'domain' : 'zigbang',\n",
    "        'withCoalition' : 'true',\n",
    "        'item_ids': ids[:900]\n",
    "    }\n",
    "\n",
    "    response = requests.post(url,params)\n",
    "    \n",
    "    items = response.json()['items']\n",
    "    columns = ['item_id','sales_type','deposit','rent','size_m2','address1','manage_cost']\n",
    "    return pd.DataFrame(items)[columns]"
   ]
  },
  {
   "cell_type": "code",
   "execution_count": 28,
   "id": "53329fbc",
   "metadata": {},
   "outputs": [
    {
     "data": {
      "text/html": [
       "<div>\n",
       "<style scoped>\n",
       "    .dataframe tbody tr th:only-of-type {\n",
       "        vertical-align: middle;\n",
       "    }\n",
       "\n",
       "    .dataframe tbody tr th {\n",
       "        vertical-align: top;\n",
       "    }\n",
       "\n",
       "    .dataframe thead th {\n",
       "        text-align: right;\n",
       "    }\n",
       "</style>\n",
       "<table border=\"1\" class=\"dataframe\">\n",
       "  <thead>\n",
       "    <tr style=\"text-align: right;\">\n",
       "      <th></th>\n",
       "      <th>item_id</th>\n",
       "      <th>sales_type</th>\n",
       "      <th>deposit</th>\n",
       "      <th>rent</th>\n",
       "      <th>size_m2</th>\n",
       "      <th>address1</th>\n",
       "      <th>manage_cost</th>\n",
       "    </tr>\n",
       "  </thead>\n",
       "  <tbody>\n",
       "    <tr>\n",
       "      <th>0</th>\n",
       "      <td>32864713</td>\n",
       "      <td>전세</td>\n",
       "      <td>9000</td>\n",
       "      <td>0</td>\n",
       "      <td>21.49</td>\n",
       "      <td>서울시 영등포구 당산동4가</td>\n",
       "      <td>13</td>\n",
       "    </tr>\n",
       "    <tr>\n",
       "      <th>1</th>\n",
       "      <td>32694522</td>\n",
       "      <td>전세</td>\n",
       "      <td>9000</td>\n",
       "      <td>0</td>\n",
       "      <td>19.83</td>\n",
       "      <td>서울시 영등포구 당산동4가</td>\n",
       "      <td>13</td>\n",
       "    </tr>\n",
       "    <tr>\n",
       "      <th>2</th>\n",
       "      <td>32822043</td>\n",
       "      <td>전세</td>\n",
       "      <td>9000</td>\n",
       "      <td>0</td>\n",
       "      <td>16.53</td>\n",
       "      <td>서울시 영등포구 당산동4가</td>\n",
       "      <td>13</td>\n",
       "    </tr>\n",
       "    <tr>\n",
       "      <th>3</th>\n",
       "      <td>32827028</td>\n",
       "      <td>전세</td>\n",
       "      <td>9000</td>\n",
       "      <td>0</td>\n",
       "      <td>19.83</td>\n",
       "      <td>서울시 영등포구 당산동4가</td>\n",
       "      <td>13</td>\n",
       "    </tr>\n",
       "    <tr>\n",
       "      <th>4</th>\n",
       "      <td>32856780</td>\n",
       "      <td>전세</td>\n",
       "      <td>7000</td>\n",
       "      <td>0</td>\n",
       "      <td>19.83</td>\n",
       "      <td>서울시 영등포구 당산동4가</td>\n",
       "      <td>13</td>\n",
       "    </tr>\n",
       "    <tr>\n",
       "      <th>...</th>\n",
       "      <td>...</td>\n",
       "      <td>...</td>\n",
       "      <td>...</td>\n",
       "      <td>...</td>\n",
       "      <td>...</td>\n",
       "      <td>...</td>\n",
       "      <td>...</td>\n",
       "    </tr>\n",
       "    <tr>\n",
       "      <th>739</th>\n",
       "      <td>32831032</td>\n",
       "      <td>월세</td>\n",
       "      <td>200</td>\n",
       "      <td>65</td>\n",
       "      <td>18.18</td>\n",
       "      <td>서울시 마포구 성산동</td>\n",
       "      <td>7</td>\n",
       "    </tr>\n",
       "    <tr>\n",
       "      <th>740</th>\n",
       "      <td>32775788</td>\n",
       "      <td>전세</td>\n",
       "      <td>16500</td>\n",
       "      <td>0</td>\n",
       "      <td>19.83</td>\n",
       "      <td>서울시 마포구 성산동</td>\n",
       "      <td>1</td>\n",
       "    </tr>\n",
       "    <tr>\n",
       "      <th>741</th>\n",
       "      <td>32589981</td>\n",
       "      <td>전세</td>\n",
       "      <td>43000</td>\n",
       "      <td>0</td>\n",
       "      <td>49.00</td>\n",
       "      <td>서울시 마포구 중동</td>\n",
       "      <td>7</td>\n",
       "    </tr>\n",
       "    <tr>\n",
       "      <th>742</th>\n",
       "      <td>32862490</td>\n",
       "      <td>전세</td>\n",
       "      <td>43000</td>\n",
       "      <td>0</td>\n",
       "      <td>31.74</td>\n",
       "      <td>서울시 마포구 중동</td>\n",
       "      <td>5</td>\n",
       "    </tr>\n",
       "    <tr>\n",
       "      <th>743</th>\n",
       "      <td>32866975</td>\n",
       "      <td>월세</td>\n",
       "      <td>3000</td>\n",
       "      <td>90</td>\n",
       "      <td>49.59</td>\n",
       "      <td>서울시 마포구 중동</td>\n",
       "      <td>2</td>\n",
       "    </tr>\n",
       "  </tbody>\n",
       "</table>\n",
       "<p>744 rows × 7 columns</p>\n",
       "</div>"
      ],
      "text/plain": [
       "      item_id sales_type  deposit  rent  size_m2        address1 manage_cost\n",
       "0    32864713         전세     9000     0    21.49  서울시 영등포구 당산동4가          13\n",
       "1    32694522         전세     9000     0    19.83  서울시 영등포구 당산동4가          13\n",
       "2    32822043         전세     9000     0    16.53  서울시 영등포구 당산동4가          13\n",
       "3    32827028         전세     9000     0    19.83  서울시 영등포구 당산동4가          13\n",
       "4    32856780         전세     7000     0    19.83  서울시 영등포구 당산동4가          13\n",
       "..        ...        ...      ...   ...      ...             ...         ...\n",
       "739  32831032         월세      200    65    18.18     서울시 마포구 성산동           7\n",
       "740  32775788         전세    16500     0    19.83     서울시 마포구 성산동           1\n",
       "741  32589981         전세    43000     0    49.00      서울시 마포구 중동           7\n",
       "742  32862490         전세    43000     0    31.74      서울시 마포구 중동           5\n",
       "743  32866975         월세     3000    90    49.59      서울시 마포구 중동           2\n",
       "\n",
       "[744 rows x 7 columns]"
      ]
     },
     "execution_count": 28,
     "metadata": {},
     "output_type": "execute_result"
    }
   ],
   "source": [
    "addr = '마포구 합정동'\n",
    "df= oneroom(addr)"
   ]
  },
  {
   "cell_type": "code",
   "execution_count": 31,
   "id": "6b52690a",
   "metadata": {},
   "outputs": [
    {
     "data": {
      "text/html": [
       "<div>\n",
       "<style scoped>\n",
       "    .dataframe tbody tr th:only-of-type {\n",
       "        vertical-align: middle;\n",
       "    }\n",
       "\n",
       "    .dataframe tbody tr th {\n",
       "        vertical-align: top;\n",
       "    }\n",
       "\n",
       "    .dataframe thead th {\n",
       "        text-align: right;\n",
       "    }\n",
       "</style>\n",
       "<table border=\"1\" class=\"dataframe\">\n",
       "  <thead>\n",
       "    <tr style=\"text-align: right;\">\n",
       "      <th></th>\n",
       "      <th>item_id</th>\n",
       "      <th>sales_type</th>\n",
       "      <th>deposit</th>\n",
       "      <th>rent</th>\n",
       "      <th>size_m2</th>\n",
       "      <th>address1</th>\n",
       "      <th>manage_cost</th>\n",
       "    </tr>\n",
       "  </thead>\n",
       "  <tbody>\n",
       "  </tbody>\n",
       "</table>\n",
       "</div>"
      ],
      "text/plain": [
       "Empty DataFrame\n",
       "Columns: [item_id, sales_type, deposit, rent, size_m2, address1, manage_cost]\n",
       "Index: []"
      ]
     },
     "execution_count": 31,
     "metadata": {},
     "output_type": "execute_result"
    }
   ],
   "source": [
    "df_filtered = df[df[\"address1\"].str.contains(addr)].reset_index(drop=True)\n",
    "df_filtered"
   ]
  },
  {
   "cell_type": "code",
   "execution_count": 32,
   "id": "6bf369b9",
   "metadata": {},
   "outputs": [
    {
     "name": "stdout",
     "output_type": "stream",
     "text": [
      " C 드라이브의 볼륨에는 이름이 없습니다.\n",
      " 볼륨 일련 번호: 7C6C-FC35\n",
      "\n",
      " C:\\Users\\User\\Desktop\\웹 크롤링\\Code\\day2 디렉터리\n",
      "\n",
      "2022-08-04  오후 12:18    <DIR>          .\n",
      "2022-08-04  오후 12:18    <DIR>          ..\n",
      "2022-08-04  오전 11:08    <DIR>          .ipynb_checkpoints\n",
      "2022-08-04  오후 12:12            77,025 01_naver_api.ipynb\n",
      "2022-08-04  오후 12:18            20,561 02_zigbang.ipynb\n",
      "               2개 파일              97,586 바이트\n",
      "               3개 디렉터리  117,483,012,096 바이트 남음\n"
     ]
    }
   ],
   "source": [
    "# 모듈 파일 만들기\n",
    "%ls"
   ]
  },
  {
   "cell_type": "code",
   "execution_count": 33,
   "id": "32fc9c70",
   "metadata": {},
   "outputs": [
    {
     "name": "stdout",
     "output_type": "stream",
     "text": [
      "Writing zigbang.py\n"
     ]
    }
   ],
   "source": [
    "%%writefile zigbang.py\n",
    "import requests\n",
    "import pandas as pd\n",
    "import geohash2\n",
    "\n",
    "def oneroom(addr):\n",
    "    url = f'https://apis.zigbang.com/v2/search?leaseYn=N&q={addr}&serviceType=원룸'\n",
    "    response = requests.get(url)\n",
    "    data = response.json()['items'][0]\n",
    "    lat, lng = data['lat'], data['lng']\n",
    "    \n",
    "    geohash = geohash2.encode(lat,lng,precision=5)\n",
    "    \n",
    "    url = f'https://apis.zigbang.com/v2/items?deposit_gteq=0&domain=zigbang\\\n",
    "&geohash={geohash}&needHasNoFiltered=true&rent_gteq=0&sales_type_in=전세|월세&service_type_eq=원룸'\n",
    "    \n",
    "    response = requests.get(url)\n",
    "    items = response.json()['items']\n",
    "    ids = [item['item_id'] for item in items]\n",
    "    \n",
    "    url = 'https://apis.zigbang.com/v2/items/list'\n",
    "    params = {\n",
    "        'domain' : 'zigbang',\n",
    "        'withCoalition' : 'true',\n",
    "        'item_ids': ids[:900]\n",
    "    }\n",
    "\n",
    "    response = requests.post(url,params)\n",
    "    \n",
    "    items = response.json()['items']\n",
    "    columns = ['item_id','sales_type','deposit','rent','size_m2','address1','manage_cost']\n",
    "    return pd.DataFrame(items)[columns]"
   ]
  },
  {
   "cell_type": "code",
   "execution_count": 34,
   "id": "5907fed3",
   "metadata": {},
   "outputs": [
    {
     "name": "stdout",
     "output_type": "stream",
     "text": [
      " C 드라이브의 볼륨에는 이름이 없습니다.\n",
      " 볼륨 일련 번호: 7C6C-FC35\n",
      "\n",
      " C:\\Users\\User\\Desktop\\웹 크롤링\\Code\\day2 디렉터리\n",
      "\n",
      "2022-08-04  오후 01:33    <DIR>          .\n",
      "2022-08-04  오후 01:33    <DIR>          ..\n",
      "2022-08-04  오전 11:08    <DIR>          .ipynb_checkpoints\n",
      "2022-08-04  오후 12:12            77,025 01_naver_api.ipynb\n",
      "2022-08-04  오후 12:18            20,561 02_zigbang.ipynb\n",
      "2022-08-04  오후 01:33             1,052 zigbang.py\n",
      "               3개 파일              98,638 바이트\n",
      "               3개 디렉터리  117,482,680,320 바이트 남음\n"
     ]
    }
   ],
   "source": [
    "%ls"
   ]
  },
  {
   "cell_type": "code",
   "execution_count": 35,
   "id": "521e874f",
   "metadata": {},
   "outputs": [],
   "source": [
    "import zigbang as zb"
   ]
  },
  {
   "cell_type": "code",
   "execution_count": 36,
   "id": "565e4e49",
   "metadata": {},
   "outputs": [
    {
     "data": {
      "text/html": [
       "<div>\n",
       "<style scoped>\n",
       "    .dataframe tbody tr th:only-of-type {\n",
       "        vertical-align: middle;\n",
       "    }\n",
       "\n",
       "    .dataframe tbody tr th {\n",
       "        vertical-align: top;\n",
       "    }\n",
       "\n",
       "    .dataframe thead th {\n",
       "        text-align: right;\n",
       "    }\n",
       "</style>\n",
       "<table border=\"1\" class=\"dataframe\">\n",
       "  <thead>\n",
       "    <tr style=\"text-align: right;\">\n",
       "      <th></th>\n",
       "      <th>item_id</th>\n",
       "      <th>sales_type</th>\n",
       "      <th>deposit</th>\n",
       "      <th>rent</th>\n",
       "      <th>size_m2</th>\n",
       "      <th>address1</th>\n",
       "      <th>manage_cost</th>\n",
       "    </tr>\n",
       "  </thead>\n",
       "  <tbody>\n",
       "    <tr>\n",
       "      <th>744</th>\n",
       "      <td>32862490</td>\n",
       "      <td>전세</td>\n",
       "      <td>43000</td>\n",
       "      <td>0</td>\n",
       "      <td>31.74</td>\n",
       "      <td>서울시 마포구 중동</td>\n",
       "      <td>5</td>\n",
       "    </tr>\n",
       "    <tr>\n",
       "      <th>745</th>\n",
       "      <td>32866975</td>\n",
       "      <td>월세</td>\n",
       "      <td>3000</td>\n",
       "      <td>90</td>\n",
       "      <td>49.59</td>\n",
       "      <td>서울시 마포구 중동</td>\n",
       "      <td>2</td>\n",
       "    </tr>\n",
       "  </tbody>\n",
       "</table>\n",
       "</div>"
      ],
      "text/plain": [
       "      item_id sales_type  deposit  rent  size_m2    address1 manage_cost\n",
       "744  32862490         전세    43000     0    31.74  서울시 마포구 중동           5\n",
       "745  32866975         월세     3000    90    49.59  서울시 마포구 중동           2"
      ]
     },
     "execution_count": 36,
     "metadata": {},
     "output_type": "execute_result"
    }
   ],
   "source": [
    "df = zb.oneroom(\"망원동\")\n",
    "df.tail(2)"
   ]
  },
  {
   "cell_type": "code",
   "execution_count": 37,
   "id": "71f631b2",
   "metadata": {},
   "outputs": [
    {
     "name": "stdout",
     "output_type": "stream",
     "text": [
      "Once deleted, variables cannot be recovered. Proceed (y/[n])? y\n"
     ]
    }
   ],
   "source": [
    "# 선언되어 있는 변수 초기화 매직커멘드\n",
    "%reset"
   ]
  },
  {
   "cell_type": "code",
   "execution_count": 38,
   "id": "1b5fd8db",
   "metadata": {},
   "outputs": [
    {
     "name": "stdout",
     "output_type": "stream",
     "text": [
      "Interactive namespace is empty.\n"
     ]
    }
   ],
   "source": [
    "# 선언되어 있는 변수 확인\n",
    "%whos"
   ]
  },
  {
   "cell_type": "code",
   "execution_count": null,
   "id": "9f2e2c1b",
   "metadata": {},
   "outputs": [],
   "source": []
  }
 ],
 "metadata": {
  "kernelspec": {
   "display_name": "Python 3",
   "language": "python",
   "name": "python3"
  },
  "language_info": {
   "codemirror_mode": {
    "name": "ipython",
    "version": 3
   },
   "file_extension": ".py",
   "mimetype": "text/x-python",
   "name": "python",
   "nbconvert_exporter": "python",
   "pygments_lexer": "ipython3",
   "version": "3.8.8"
  }
 },
 "nbformat": 4,
 "nbformat_minor": 5
}
