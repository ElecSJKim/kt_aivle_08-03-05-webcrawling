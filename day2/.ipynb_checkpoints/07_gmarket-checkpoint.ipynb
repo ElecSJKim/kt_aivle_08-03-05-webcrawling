{
 "cells": [
  {
   "cell_type": "markdown",
   "id": "e17d7894",
   "metadata": {},
   "source": [
    "### Gmarket\n",
    "- 베스트 상품 200개 수집"
   ]
  },
  {
   "cell_type": "code",
   "execution_count": 1,
   "id": "4e6a8cdc",
   "metadata": {},
   "outputs": [],
   "source": [
    "import pandas as pd\n",
    "import requests\n",
    "from bs4 import BeautifulSoup"
   ]
  },
  {
   "cell_type": "code",
   "execution_count": null,
   "id": "271b4cfc",
   "metadata": {},
   "outputs": [],
   "source": [
    "# 1. URL"
   ]
  },
  {
   "cell_type": "code",
   "execution_count": 2,
   "id": "cf3dc275",
   "metadata": {},
   "outputs": [],
   "source": [
    "url = 'http://corners.gmarket.co.kr/Bestsellers'"
   ]
  },
  {
   "cell_type": "code",
   "execution_count": null,
   "id": "3641a304",
   "metadata": {},
   "outputs": [],
   "source": [
    "# 2. request > response : HTML"
   ]
  },
  {
   "cell_type": "raw",
   "id": "cdb4ed41",
   "metadata": {},
   "source": []
  },
  {
   "cell_type": "code",
   "execution_count": null,
   "id": "42f6a48b",
   "metadata": {},
   "outputs": [],
   "source": [
    "# 3. HTML(str) > BeautifulSoup Object"
   ]
  },
  {
   "cell_type": "code",
   "execution_count": null,
   "id": "03df33d2",
   "metadata": {},
   "outputs": [],
   "source": []
  },
  {
   "cell_type": "code",
   "execution_count": null,
   "id": "3a4bc8ed",
   "metadata": {},
   "outputs": [],
   "source": [
    "# 4. BeautifulSoup Object > CSS Selector > DataFrame"
   ]
  },
  {
   "cell_type": "code",
   "execution_count": null,
   "id": "9eecea62",
   "metadata": {},
   "outputs": [],
   "source": []
  }
 ],
 "metadata": {
  "kernelspec": {
   "display_name": "Python 3",
   "language": "python",
   "name": "python3"
  },
  "language_info": {
   "codemirror_mode": {
    "name": "ipython",
    "version": 3
   },
   "file_extension": ".py",
   "mimetype": "text/x-python",
   "name": "python",
   "nbconvert_exporter": "python",
   "pygments_lexer": "ipython3",
   "version": "3.8.8"
  }
 },
 "nbformat": 4,
 "nbformat_minor": 5
}
