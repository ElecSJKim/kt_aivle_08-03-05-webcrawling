{
 "cells": [
  {
   "cell_type": "markdown",
   "id": "679ebd4b",
   "metadata": {},
   "source": [
    "### Gmarket\n",
    "- 베스트 상품 200개 수집"
   ]
  },
  {
   "cell_type": "code",
   "execution_count": 1,
   "id": "4ebe247f",
   "metadata": {},
   "outputs": [],
   "source": [
    "import pandas as pd\n",
    "import requests\n",
    "from bs4 import BeautifulSoup"
   ]
  },
  {
   "cell_type": "code",
   "execution_count": null,
   "id": "509e600a",
   "metadata": {},
   "outputs": [],
   "source": [
    "# 1. URL"
   ]
  },
  {
   "cell_type": "code",
   "execution_count": 2,
   "id": "f1f9c8d7",
   "metadata": {},
   "outputs": [],
   "source": [
    "url = 'http://corners.gmarket.co.kr/Bestsellers'"
   ]
  },
  {
   "cell_type": "code",
   "execution_count": null,
   "id": "7644ef5f",
   "metadata": {},
   "outputs": [],
   "source": [
    "# 2. request > response : HTML"
   ]
  },
  {
   "cell_type": "code",
   "execution_count": 3,
   "id": "bd4fadcd",
   "metadata": {},
   "outputs": [
    {
     "data": {
      "text/plain": [
       "<Response [200]>"
      ]
     },
     "execution_count": 3,
     "metadata": {},
     "output_type": "execute_result"
    }
   ],
   "source": [
    "response = requests.get(url)\n",
    "response"
   ]
  },
  {
   "cell_type": "code",
   "execution_count": null,
   "id": "fdac8df0",
   "metadata": {},
   "outputs": [],
   "source": [
    "# 3. HTML(str) > BeautifulSoup Object"
   ]
  },
  {
   "cell_type": "code",
   "execution_count": 5,
   "id": "6684bb02",
   "metadata": {},
   "outputs": [
    {
     "data": {
      "text/plain": [
       "bs4.BeautifulSoup"
      ]
     },
     "execution_count": 5,
     "metadata": {},
     "output_type": "execute_result"
    }
   ],
   "source": [
    "dom = BeautifulSoup(response.text, \"html.parser\")\n",
    "type(dom)"
   ]
  },
  {
   "cell_type": "code",
   "execution_count": null,
   "id": "bb28ae28",
   "metadata": {},
   "outputs": [],
   "source": [
    "# 4. BeautifulSoup Object > CSS Selector > DataFrame"
   ]
  },
  {
   "cell_type": "code",
   "execution_count": 6,
   "id": "dda72079",
   "metadata": {},
   "outputs": [
    {
     "data": {
      "text/plain": [
       "200"
      ]
     },
     "execution_count": 6,
     "metadata": {},
     "output_type": "execute_result"
    }
   ],
   "source": [
    "#200개 상품 엘리먼트 선택\n",
    "elements = dom.select('#gBestWrap > div > div:nth-child(5) > div > ul > li')\n",
    "len(elements)\n",
    "#엘리먼트를 선택하고 오른쪽버튼 클릭 copy > copy selector 선택하면 css selector로 바로 준다. 너무 편리하다"
   ]
  },
  {
   "cell_type": "code",
   "execution_count": 8,
   "id": "3df11fb6",
   "metadata": {},
   "outputs": [],
   "source": [
    "element = elements[0]"
   ]
  },
  {
   "cell_type": "code",
   "execution_count": 14,
   "id": "91dc6d2d",
   "metadata": {},
   "outputs": [
    {
     "data": {
      "text/plain": [
       "{'title': '[한상궁김치]한상궁김치 국산 겉절이 2kg 출고당일생산',\n",
       " 'o_price': '23,400원',\n",
       " 's_price': '11,000원',\n",
       " 'img': 'http//gdimg.gmarket.co.kr/1798110680/still/300?ver=2022080416'}"
      ]
     },
     "execution_count": 14,
     "metadata": {},
     "output_type": "execute_result"
    }
   ],
   "source": [
    "data = {\n",
    "    \"title\":element.select_one(\".itemname\").text,\n",
    "    \"o_price\":element.select_one(\".o-price\").text,\n",
    "    \"s_price\":element.select_one(\".s-price > strong\").text,\n",
    "    \"img\": \"http\" + element.select_one(\"img\").get(\"data-original\"), # select_one할때 해당 태그가 여러개일 경우 맨 위에있는거를 가져온다\n",
    "} # get 안에 속성값을 적어준다\n",
    "data"
   ]
  },
  {
   "cell_type": "code",
   "execution_count": 15,
   "id": "9874d103",
   "metadata": {},
   "outputs": [
    {
     "data": {
      "text/plain": [
       "[{'title': '[한상궁김치]한상궁김치 국산 겉절이 2kg 출고당일생산',\n",
       "  'o_price': '23,400원',\n",
       "  's_price': '11,000원',\n",
       "  'img': 'http//gdimg.gmarket.co.kr/1798110680/still/300?ver=2022080416'},\n",
       " {'title': '[광동]아이스웨일 레몬라임 탄산수 500ml 40pet/음료/음료수',\n",
       "  'o_price': '17,300원',\n",
       "  's_price': '13,900원',\n",
       "  'img': 'http//gdimg.gmarket.co.kr/2355814801/still/300?ver=2022080416'}]"
      ]
     },
     "execution_count": 15,
     "metadata": {},
     "output_type": "execute_result"
    }
   ],
   "source": [
    "items = []\n",
    "for element in elements:\n",
    "    data = {\n",
    "        \"title\":element.select_one(\".itemname\").text,\n",
    "        \"o_price\":element.select_one(\".o-price\").text,\n",
    "        \"s_price\":element.select_one(\".s-price > strong\").text,\n",
    "        \"img\": \"http\" + element.select_one(\"img\").get(\"data-original\"),\n",
    "    }\n",
    "    items.append(data)\n",
    "items[:2]"
   ]
  },
  {
   "cell_type": "code",
   "execution_count": 16,
   "id": "e3eae4ed",
   "metadata": {},
   "outputs": [
    {
     "data": {
      "text/html": [
       "<div>\n",
       "<style scoped>\n",
       "    .dataframe tbody tr th:only-of-type {\n",
       "        vertical-align: middle;\n",
       "    }\n",
       "\n",
       "    .dataframe tbody tr th {\n",
       "        vertical-align: top;\n",
       "    }\n",
       "\n",
       "    .dataframe thead th {\n",
       "        text-align: right;\n",
       "    }\n",
       "</style>\n",
       "<table border=\"1\" class=\"dataframe\">\n",
       "  <thead>\n",
       "    <tr style=\"text-align: right;\">\n",
       "      <th></th>\n",
       "      <th>title</th>\n",
       "      <th>o_price</th>\n",
       "      <th>s_price</th>\n",
       "      <th>img</th>\n",
       "    </tr>\n",
       "  </thead>\n",
       "  <tbody>\n",
       "    <tr>\n",
       "      <th>0</th>\n",
       "      <td>[한상궁김치]한상궁김치 국산 겉절이 2kg 출고당일생산</td>\n",
       "      <td>23,400원</td>\n",
       "      <td>11,000원</td>\n",
       "      <td>http//gdimg.gmarket.co.kr/1798110680/still/300...</td>\n",
       "    </tr>\n",
       "    <tr>\n",
       "      <th>1</th>\n",
       "      <td>[광동]아이스웨일 레몬라임 탄산수 500ml 40pet/음료/음료수</td>\n",
       "      <td>17,300원</td>\n",
       "      <td>13,900원</td>\n",
       "      <td>http//gdimg.gmarket.co.kr/2355814801/still/300...</td>\n",
       "    </tr>\n",
       "    <tr>\n",
       "      <th>2</th>\n",
       "      <td>[바디스토리]남성 누디5매 냉감 쿨 드로즈 남자 아이스 사각 팬티 / 무료반품+10...</td>\n",
       "      <td>39,600원</td>\n",
       "      <td>11,900원</td>\n",
       "      <td>http//gdimg.gmarket.co.kr/2520900839/still/300...</td>\n",
       "    </tr>\n",
       "    <tr>\n",
       "      <th>3</th>\n",
       "      <td>(쌀가게) (광주신세계)[주문폭증으로 순차적 출고 예정] [2021년 햅쌀] 쌀가게...</td>\n",
       "      <td>33,900원</td>\n",
       "      <td>28,140원</td>\n",
       "      <td>http//gdimg.gmarket.co.kr/2443817026/still/300...</td>\n",
       "    </tr>\n",
       "    <tr>\n",
       "      <th>4</th>\n",
       "      <td>[이지바이](무료반품)균일6900원/남녀 쿨론티셔츠/반바지/추리닝</td>\n",
       "      <td>23,000원</td>\n",
       "      <td>6,900원</td>\n",
       "      <td>http//gdimg.gmarket.co.kr/1494979529/still/300...</td>\n",
       "    </tr>\n",
       "    <tr>\n",
       "      <th>...</th>\n",
       "      <td>...</td>\n",
       "      <td>...</td>\n",
       "      <td>...</td>\n",
       "      <td>...</td>\n",
       "    </tr>\n",
       "    <tr>\n",
       "      <th>195</th>\n",
       "      <td>김나운 직화 떡갈비 26팩 (총 26장)</td>\n",
       "      <td>25,900원</td>\n",
       "      <td>24,470원</td>\n",
       "      <td>http//gdimg.gmarket.co.kr/1926564808/still/300...</td>\n",
       "    </tr>\n",
       "    <tr>\n",
       "      <th>196</th>\n",
       "      <td>[동아제약]동아) 박카스D 100ml x 100병 자양강장</td>\n",
       "      <td></td>\n",
       "      <td>67,000원</td>\n",
       "      <td>http//gdimg.gmarket.co.kr/1626072139/still/300...</td>\n",
       "    </tr>\n",
       "    <tr>\n",
       "      <th>197</th>\n",
       "      <td>헬스브로 칼슘 마그네슘 아연 비타민D 12개월(360정)</td>\n",
       "      <td></td>\n",
       "      <td>30,300원</td>\n",
       "      <td>http//gdimg.gmarket.co.kr/1942509711/still/300...</td>\n",
       "    </tr>\n",
       "    <tr>\n",
       "      <th>198</th>\n",
       "      <td>주니어김영사 놓지 마 어휘 한자어 1 2 3 4 번 전4권 세트</td>\n",
       "      <td>81,000원</td>\n",
       "      <td>55,200원</td>\n",
       "      <td>http//gdimg.gmarket.co.kr/2298871614/still/300...</td>\n",
       "    </tr>\n",
       "    <tr>\n",
       "      <th>199</th>\n",
       "      <td>김치메밀전병900gx2봉1.8kg/만두 간식 메밀 2봉/HACCP/</td>\n",
       "      <td>19,900원</td>\n",
       "      <td>12,500원</td>\n",
       "      <td>http//gdimg.gmarket.co.kr/1521852173/still/300...</td>\n",
       "    </tr>\n",
       "  </tbody>\n",
       "</table>\n",
       "<p>200 rows × 4 columns</p>\n",
       "</div>"
      ],
      "text/plain": [
       "                                                 title  o_price  s_price  \\\n",
       "0                       [한상궁김치]한상궁김치 국산 겉절이 2kg 출고당일생산  23,400원  11,000원   \n",
       "1                [광동]아이스웨일 레몬라임 탄산수 500ml 40pet/음료/음료수  17,300원  13,900원   \n",
       "2    [바디스토리]남성 누디5매 냉감 쿨 드로즈 남자 아이스 사각 팬티 / 무료반품+10...  39,600원  11,900원   \n",
       "3    (쌀가게) (광주신세계)[주문폭증으로 순차적 출고 예정] [2021년 햅쌀] 쌀가게...  33,900원  28,140원   \n",
       "4                 [이지바이](무료반품)균일6900원/남녀 쿨론티셔츠/반바지/추리닝  23,000원   6,900원   \n",
       "..                                                 ...      ...      ...   \n",
       "195                             김나운 직화 떡갈비 26팩 (총 26장)  25,900원  24,470원   \n",
       "196                   [동아제약]동아) 박카스D 100ml x 100병 자양강장           67,000원   \n",
       "197                    헬스브로 칼슘 마그네슘 아연 비타민D 12개월(360정)           30,300원   \n",
       "198                주니어김영사 놓지 마 어휘 한자어 1 2 3 4 번 전4권 세트  81,000원  55,200원   \n",
       "199              김치메밀전병900gx2봉1.8kg/만두 간식 메밀 2봉/HACCP/  19,900원  12,500원   \n",
       "\n",
       "                                                   img  \n",
       "0    http//gdimg.gmarket.co.kr/1798110680/still/300...  \n",
       "1    http//gdimg.gmarket.co.kr/2355814801/still/300...  \n",
       "2    http//gdimg.gmarket.co.kr/2520900839/still/300...  \n",
       "3    http//gdimg.gmarket.co.kr/2443817026/still/300...  \n",
       "4    http//gdimg.gmarket.co.kr/1494979529/still/300...  \n",
       "..                                                 ...  \n",
       "195  http//gdimg.gmarket.co.kr/1926564808/still/300...  \n",
       "196  http//gdimg.gmarket.co.kr/1626072139/still/300...  \n",
       "197  http//gdimg.gmarket.co.kr/1942509711/still/300...  \n",
       "198  http//gdimg.gmarket.co.kr/2298871614/still/300...  \n",
       "199  http//gdimg.gmarket.co.kr/1521852173/still/300...  \n",
       "\n",
       "[200 rows x 4 columns]"
      ]
     },
     "execution_count": 16,
     "metadata": {},
     "output_type": "execute_result"
    }
   ],
   "source": [
    "df = pd.DataFrame(items)\n",
    "df"
   ]
  },
  {
   "cell_type": "markdown",
   "id": "db383ad6",
   "metadata": {},
   "source": [
    "### summary\n",
    "#### 웹페이지의 종류\n",
    "- 동적페이지 : URL 변경 없이 웹 페이지 데이터 변경 : JSON : API\n",
    "- 정적페이지 : URL 변경 해서 웹 페이지 데이터 변경 : HTML : Beautiful Soup(CSS Selector)\n",
    "\n",
    "- 내일 학습 내용\n",
    "    - crawling images\n",
    "    - crawling selenium\n",
    "    - css selector보다 좋은 xpath\n",
    "    - python web crawling framework : scrapy >> 실제 회사에서는 scrapy에 녹여서 사용"
   ]
  },
  {
   "cell_type": "code",
   "execution_count": null,
   "id": "8b592927",
   "metadata": {},
   "outputs": [],
   "source": []
  }
 ],
 "metadata": {
  "kernelspec": {
   "display_name": "Python 3",
   "language": "python",
   "name": "python3"
  },
  "language_info": {
   "codemirror_mode": {
    "name": "ipython",
    "version": 3
   },
   "file_extension": ".py",
   "mimetype": "text/x-python",
   "name": "python",
   "nbconvert_exporter": "python",
   "pygments_lexer": "ipython3",
   "version": "3.8.8"
  }
 },
 "nbformat": 4,
 "nbformat_minor": 5
}
