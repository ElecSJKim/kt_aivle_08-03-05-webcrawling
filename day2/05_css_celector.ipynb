{
 "cells": [
  {
   "cell_type": "markdown",
   "id": "d74fc6b1",
   "metadata": {},
   "source": [
    "### CSS Selector\n",
    "- CSS 스타일을 적용 시킬 HTML 엘리먼트를 선택하는 방법"
   ]
  },
  {
   "cell_type": "code",
   "execution_count": 1,
   "id": "44321c6d",
   "metadata": {},
   "outputs": [],
   "source": [
    "# 1. Element Tag 이름으로 선택\n",
    "# css selector : span : python 3 선택"
   ]
  },
  {
   "cell_type": "code",
   "execution_count": 3,
   "id": "697e01a9",
   "metadata": {},
   "outputs": [
    {
     "data": {
      "text/html": [
       "<div id=\"kt\">\n",
       "    <div>python 1</div>\n",
       "    <p>python 2</p>\n",
       "    <span>python 3</span>\n",
       "</div>\n"
      ],
      "text/plain": [
       "<IPython.core.display.HTML object>"
      ]
     },
     "metadata": {},
     "output_type": "display_data"
    }
   ],
   "source": [
    "%%html\n",
    "<div id=\"kt\">\n",
    "    <div>python 1</div>\n",
    "    <p>python 2</p>\n",
    "    <span>python 3</span>\n",
    "</div>"
   ]
  },
  {
   "cell_type": "code",
   "execution_count": null,
   "id": "f0be24e5",
   "metadata": {},
   "outputs": [],
   "source": [
    "# 2. Tag의 id 값으로 선택\n",
    "# css selector : #kt2 : python 2 선택"
   ]
  },
  {
   "cell_type": "code",
   "execution_count": 4,
   "id": "79feadfd",
   "metadata": {},
   "outputs": [
    {
     "data": {
      "text/html": [
       "<div class=\"kt\">\n",
       "    <p id=\"kt1\">python 1</p>\n",
       "    <p id=\"kt2\">python 2</p>\n",
       "    <p id=\"kt3\">python 3</p>\n",
       "</div>\n"
      ],
      "text/plain": [
       "<IPython.core.display.HTML object>"
      ]
     },
     "metadata": {},
     "output_type": "display_data"
    }
   ],
   "source": [
    "%%html\n",
    "<div class=\"kt\">\n",
    "    <p id=\"kt1\">python 1</p>\n",
    "    <p id=\"kt2\">python 2</p>\n",
    "    <p id=\"kt3\">python 3</p>\n",
    "</div>"
   ]
  },
  {
   "cell_type": "code",
   "execution_count": null,
   "id": "d4a3a486",
   "metadata": {},
   "outputs": [],
   "source": [
    "# 3. Tag의 class 값으로 선택\n",
    "# css selector : .kt2 : python 2 선택\n",
    "# css selector : .kt : python 1, python 2, python 3 선택됨"
   ]
  },
  {
   "cell_type": "code",
   "execution_count": 5,
   "id": "ee2900dd",
   "metadata": {},
   "outputs": [
    {
     "data": {
      "text/html": [
       "<p class=\"kt kt1\">python 1</p>\n",
       "<p class=\"kt kt2\">python 2</p>\n",
       "<p class=\"kt kt3\">python 3</p>\n"
      ],
      "text/plain": [
       "<IPython.core.display.HTML object>"
      ]
     },
     "metadata": {},
     "output_type": "display_data"
    }
   ],
   "source": [
    "%%html\n",
    "<p class=\"kt kt1\">python 1</p>\n",
    "<p class=\"kt kt2\">python 2</p>\n",
    "<p class=\"kt kt3\">python 3</p>\n"
   ]
  },
  {
   "cell_type": "code",
   "execution_count": 6,
   "id": "ef4b7e31",
   "metadata": {},
   "outputs": [],
   "source": [
    "# 4. Tag의 attr 값으로 선택\n",
    "# css selector : [value=\"no1\"] : python 1 선택"
   ]
  },
  {
   "cell_type": "code",
   "execution_count": 7,
   "id": "eb8c0d2d",
   "metadata": {},
   "outputs": [
    {
     "data": {
      "text/html": [
       "<p value='no1'>python 1</p>\n",
       "<p value='no2'>python 2</p>\n",
       "<p value='no3'>python 3</p>\n"
      ],
      "text/plain": [
       "<IPython.core.display.HTML object>"
      ]
     },
     "metadata": {},
     "output_type": "display_data"
    }
   ],
   "source": [
    "%%html\n",
    "<p value='no1'>python 1</p>\n",
    "<p value='no2'>python 2</p>\n",
    "<p value='no3'>python 3</p>"
   ]
  },
  {
   "cell_type": "code",
   "execution_count": 8,
   "id": "0edd9738",
   "metadata": {},
   "outputs": [],
   "source": [
    "# tag 이름 : span\n",
    "# id : #kt\n",
    "# class : .kt\n",
    "# attr : [value=\"kt\"]"
   ]
  },
  {
   "cell_type": "code",
   "execution_count": 9,
   "id": "dad67f36",
   "metadata": {},
   "outputs": [],
   "source": [
    "# 5. 여러개의 엘리먼트 선택"
   ]
  },
  {
   "cell_type": "code",
   "execution_count": 10,
   "id": "c2de5cbc",
   "metadata": {},
   "outputs": [],
   "source": [
    "# not selector\n",
    "# class no 엘리먼트를 모두 선택하고, no2 클래스를 갖는 엘리먼트만 제외\n",
    "# css selector : .no:not(.no2) : python 1, python 2"
   ]
  },
  {
   "cell_type": "code",
   "execution_count": 11,
   "id": "87ebdab6",
   "metadata": {},
   "outputs": [
    {
     "data": {
      "text/html": [
       "<p value='no no1'>python 1</p>\n",
       "<p value='no no2'>python 2</p>\n",
       "<p value='no no3'>python 3</p>\n"
      ],
      "text/plain": [
       "<IPython.core.display.HTML object>"
      ]
     },
     "metadata": {},
     "output_type": "display_data"
    }
   ],
   "source": [
    "%%html\n",
    "<p class='no no1'>python 1</p>\n",
    "<p class='no no2'>python 2</p>\n",
    "<p class='no no3'>python 3</p>"
   ]
  },
  {
   "cell_type": "code",
   "execution_count": 12,
   "id": "a19e765b",
   "metadata": {},
   "outputs": [],
   "source": [
    "# n 번째 엘리먼트 선택\n",
    "# css selector : .py:nth-child(2) : python 2 선택\n",
    "# .py 엘리먼트 중에서 2번째 -> X\n",
    "# 2번째 엘리먼트 중에서 .py 클래스를 갖는다 -> O"
   ]
  },
  {
   "cell_type": "code",
   "execution_count": 13,
   "id": "28521d34",
   "metadata": {},
   "outputs": [
    {
     "data": {
      "text/html": [
       "<p class='no no1'>python 1</p>\n",
       "<p class='no no2'>python 2</p>\n",
       "<p class='no no3'>python 3</p>\n"
      ],
      "text/plain": [
       "<IPython.core.display.HTML object>"
      ]
     },
     "metadata": {},
     "output_type": "display_data"
    }
   ],
   "source": [
    "%%html\n",
    "<div>\n",
    "<p class='py'>python 1</p>\n",
    "<p class='py'>python 2</p>\n",
    "<p class='py'>python 3</p>\n",
    "</div>"
   ]
  },
  {
   "cell_type": "code",
   "execution_count": 14,
   "id": "275678b3",
   "metadata": {},
   "outputs": [],
   "source": [
    "# 6. 계층적으로 엘리먼트 선택\n",
    "# .wrap > p : inner 1 선택\n",
    "# .wrap p : inner 1, inner 2 선택 --> wrap 클래스 안에 모든 p 선택"
   ]
  },
  {
   "cell_type": "code",
   "execution_count": 15,
   "id": "e9eb6e18",
   "metadata": {},
   "outputs": [
    {
     "data": {
      "text/html": [
       "<div class=\"wrap\">\n",
       "    <p>inner 1</p>\n",
       "    <div>\n",
       "        <p>inner 2</p>\n",
       "    </div>\n",
       "</div>\n"
      ],
      "text/plain": [
       "<IPython.core.display.HTML object>"
      ]
     },
     "metadata": {},
     "output_type": "display_data"
    }
   ],
   "source": [
    "%%html\n",
    "<div class=\"wrap\">\n",
    "    <p>inner 1</p>\n",
    "    <div>\n",
    "        <p>inner 2</p>\n",
    "    </div>\n",
    "</div>"
   ]
  },
  {
   "cell_type": "code",
   "execution_count": 16,
   "id": "01c74bea",
   "metadata": {},
   "outputs": [],
   "source": [
    "# 여러개의 엘리먼트 선택\n",
    "# .py1, .py3 : python 1, python 3 선택"
   ]
  },
  {
   "cell_type": "code",
   "execution_count": 17,
   "id": "7bea5a0e",
   "metadata": {},
   "outputs": [
    {
     "data": {
      "text/html": [
       "<p class='py1'>python 1</p>\n",
       "<p class='py2'>python 2</p>\n",
       "<p class='py3'>python 3</p>\n"
      ],
      "text/plain": [
       "<IPython.core.display.HTML object>"
      ]
     },
     "metadata": {},
     "output_type": "display_data"
    }
   ],
   "source": [
    "%%html\n",
    "<p class='py1'>python 1</p>\n",
    "<p class='py2'>python 2</p>\n",
    "<p class='py3'>python 3</p>"
   ]
  },
  {
   "cell_type": "code",
   "execution_count": null,
   "id": "4caf1ea0",
   "metadata": {},
   "outputs": [],
   "source": [
    "# 엘리먼트 하나 선택\n",
    "# tag 이름 : span\n",
    "# id : #kt\n",
    "# class : .kt\n",
    "# attr : [value=\"kt\"]\n",
    "\n",
    "# 여러개의 엘리먼트 선택\n",
    "# :not(.kt1)\n",
    "# :nth-child(n)\n",
    "# .wrap > p : 한 단계 하위 엘리먼트\n",
    "# .wrap p : 모든 하위 엘리먼트\n",
    "# .kt1, .kt2 : 선택하는 모든 엘리먼트"
   ]
  },
  {
   "cell_type": "code",
   "execution_count": null,
   "id": "0957cfe0",
   "metadata": {},
   "outputs": [],
   "source": []
  },
  {
   "cell_type": "code",
   "execution_count": null,
   "id": "388e03a3",
   "metadata": {},
   "outputs": [],
   "source": []
  },
  {
   "cell_type": "code",
   "execution_count": null,
   "id": "e09837d2",
   "metadata": {},
   "outputs": [],
   "source": []
  },
  {
   "cell_type": "code",
   "execution_count": null,
   "id": "b397ff5d",
   "metadata": {},
   "outputs": [],
   "source": []
  },
  {
   "cell_type": "code",
   "execution_count": null,
   "id": "f86d878c",
   "metadata": {},
   "outputs": [],
   "source": []
  }
 ],
 "metadata": {
  "kernelspec": {
   "display_name": "Python 3",
   "language": "python",
   "name": "python3"
  },
  "language_info": {
   "codemirror_mode": {
    "name": "ipython",
    "version": 3
   },
   "file_extension": ".py",
   "mimetype": "text/x-python",
   "name": "python",
   "nbconvert_exporter": "python",
   "pygments_lexer": "ipython3",
   "version": "3.8.8"
  }
 },
 "nbformat": 4,
 "nbformat_minor": 5
}
