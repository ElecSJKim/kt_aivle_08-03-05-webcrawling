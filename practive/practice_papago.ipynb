{
 "cells": [
  {
   "cell_type": "markdown",
   "id": "b99befac",
   "metadata": {},
   "source": [
    "### 파파고 번역 프로그램 연습\n",
    "- 네이버 API 활용"
   ]
  },
  {
   "cell_type": "code",
   "execution_count": 13,
   "id": "dc55cf26",
   "metadata": {},
   "outputs": [],
   "source": [
    "import requests, json\n",
    "import pandas as pd"
   ]
  },
  {
   "cell_type": "code",
   "execution_count": 2,
   "id": "41ccee95",
   "metadata": {},
   "outputs": [],
   "source": [
    "url = 'https://openapi.naver.com/v1/papago/n2mt'"
   ]
  },
  {
   "cell_type": "code",
   "execution_count": 3,
   "id": "581d2610",
   "metadata": {},
   "outputs": [],
   "source": [
    "client_id, client_secret = 'JsuWmAK45gUAQmPyxPAC', 'arEk649EpR'\n",
    "text = \"UDN 환경에서 위치 기반 자원 할당 기법에 관한 연구\""
   ]
  },
  {
   "cell_type": "code",
   "execution_count": 19,
   "id": "725859da",
   "metadata": {},
   "outputs": [
    {
     "data": {
      "text/plain": [
       "{'Content-Type': 'application/json',\n",
       " 'X-Naver-Client-Id': 'JsuWmAK45gUAQmPyxPAC',\n",
       " 'X-Naver-Client-Secret': 'arEk649EpR'}"
      ]
     },
     "execution_count": 19,
     "metadata": {},
     "output_type": "execute_result"
    }
   ],
   "source": [
    "headers = {\n",
    "    'Content-Type': 'application/json',\n",
    "    \"X-Naver-Client-Id\" : client_id,\n",
    "    \"X-Naver-Client-Secret\": client_secret\n",
    "}\n",
    "\n",
    "params = {\n",
    "    'source' : 'ko',\n",
    "    'target' : 'en',\n",
    "    'text' : text\n",
    "    \n",
    "}\n",
    "headers"
   ]
  },
  {
   "cell_type": "code",
   "execution_count": 24,
   "id": "15afb955",
   "metadata": {},
   "outputs": [
    {
     "data": {
      "text/plain": [
       "<Response [200]>"
      ]
     },
     "execution_count": 24,
     "metadata": {},
     "output_type": "execute_result"
    }
   ],
   "source": [
    "response = requests.post(url, json.dumps(params), headers=headers)\n",
    "response\n",
    "# params에 한글이 들어가는데 dumps 없이 요청하니 http 서버 코드에 요청 오류 발생 (400)"
   ]
  },
  {
   "cell_type": "code",
   "execution_count": 25,
   "id": "c8c34ea5",
   "metadata": {},
   "outputs": [
    {
     "data": {
      "text/plain": [
       "'{\"message\":{\"result\":{\"srcLangType\":\"ko\",\"tarLangType\":\"en\",\"translatedText\":\"A Study on the Location-Based Resource Allocation Technique in UDN Environment\",\"engineType\":\"N2MT\",\"pivot\":null,\"dict\":null,\"tarDict\":null},\"@type\":\"response\",\"@service\":\"naverservice.nmt.proxy\",\"@version\":\"1.0.0\"}}'"
      ]
     },
     "execution_count": 25,
     "metadata": {},
     "output_type": "execute_result"
    }
   ],
   "source": [
    "response.text"
   ]
  },
  {
   "cell_type": "code",
   "execution_count": 29,
   "id": "79a47557",
   "metadata": {},
   "outputs": [
    {
     "data": {
      "text/plain": [
       "'A Study on the Location-Based Resource Allocation Technique in UDN Environment'"
      ]
     },
     "execution_count": 29,
     "metadata": {},
     "output_type": "execute_result"
    }
   ],
   "source": [
    "data = response.json()\n",
    "data['message']['result']['translatedText']"
   ]
  },
  {
   "cell_type": "markdown",
   "id": "64588220",
   "metadata": {},
   "source": [
    "### 함수로 만들어보자"
   ]
  },
  {
   "cell_type": "code",
   "execution_count": 38,
   "id": "967d63bb",
   "metadata": {},
   "outputs": [],
   "source": [
    "def translate(text, source, target):\n",
    "    \"\"\"\n",
    "    This method is using for translatation\n",
    "    You should put 3 arguments\n",
    "    \n",
    "    text = something to translate text\n",
    "    source, target = 'ko'=korean, 'en'=english, 'ja'=japanese, 'es'=spanish\n",
    "    \n",
    "    \"\"\"\n",
    "    url = 'https://openapi.naver.com/v1/papago/n2mt'\n",
    "    client_id, client_secret = 'JsuWmAK45gUAQmPyxPAC', 'arEk649EpR'\n",
    "    \n",
    "    headers = {\n",
    "    'Content-Type': 'application/json',\n",
    "    \"X-Naver-Client-Id\" : client_id,\n",
    "    \"X-Naver-Client-Secret\": client_secret\n",
    "    }\n",
    "\n",
    "    params = {\n",
    "        'source' : source,\n",
    "        'target' : target,\n",
    "        'text' : text\n",
    "\n",
    "    }\n",
    "    \n",
    "    response = requests.post(url, json.dumps(params), headers=headers)\n",
    "    \n",
    "    data = response.json()\n",
    "    \n",
    "    return data['message']['result']['translatedText']"
   ]
  },
  {
   "cell_type": "code",
   "execution_count": 40,
   "id": "402cb525",
   "metadata": {},
   "outputs": [
    {
     "data": {
      "text/plain": [
       "'El número de estaciones base aumenta y se concentra de acuerdo a la creciente demanda de datos. Se requiere un ambiente UDN para resolver estos problemas. El ambiente UDN es un ambiente en el que se organizan las células pequeñas densamente. Sin embargo, este tipo de despliegue denso tiene un problema de interferencia entre las células adyacentes.'"
      ]
     },
     "execution_count": 40,
     "metadata": {},
     "output_type": "execute_result"
    }
   ],
   "source": [
    "text = \"갈수록 늘어나는 데이터 요구량에 따라 기지국 수는 점차 늘어나고 밀집 되어간다. \\\n",
    "이러한 문제를 해결하기 위해 UDN 환경이 요구된다. UDN 환경은 소형셀을 밀집 배치하는 환경이다. 하지만 이러한 밀집 배치는 인접 셀 간 간섭이 발생하는\\\n",
    "문제가 있다.\"\n",
    "\n",
    "result = translate(text, 'ko', 'es')\n",
    "result"
   ]
  },
  {
   "cell_type": "markdown",
   "id": "757bb894",
   "metadata": {},
   "source": [
    "### 언어 감지 API 활용해보기\n",
    "- 텍스트 입력 > 해당 언어 나라 출력"
   ]
  },
  {
   "cell_type": "code",
   "execution_count": 41,
   "id": "b0d47b7d",
   "metadata": {},
   "outputs": [],
   "source": [
    "url = 'https://openapi.naver.com/v1/papago/detectLangs'"
   ]
  },
  {
   "cell_type": "code",
   "execution_count": 50,
   "id": "3aab18dc",
   "metadata": {},
   "outputs": [],
   "source": [
    "text = 'hello'\n",
    "client_id, client_secret = 'MxhDIxvahAWwLvq_pvJO', 'B_aVHkr75m'\n",
    "\n",
    "headers = {\n",
    "    \"Content-Type\" : \"application/json\", \n",
    "    \"X-Naver-Client-Id\" : client_id,\n",
    "    \"X-Naver-Client-Secret\": client_secret\n",
    "}\n",
    "\n",
    "params = {'query' : text}"
   ]
  },
  {
   "cell_type": "code",
   "execution_count": 51,
   "id": "5d9f99e4",
   "metadata": {},
   "outputs": [
    {
     "data": {
      "text/plain": [
       "<Response [200]>"
      ]
     },
     "execution_count": 51,
     "metadata": {},
     "output_type": "execute_result"
    }
   ],
   "source": [
    "response = requests.post(url, json.dumps(params), headers=headers)\n",
    "response"
   ]
  },
  {
   "cell_type": "code",
   "execution_count": 52,
   "id": "f5ae6fa4",
   "metadata": {},
   "outputs": [
    {
     "data": {
      "text/plain": [
       "'{\"langCode\":\"en\"}'"
      ]
     },
     "execution_count": 52,
     "metadata": {},
     "output_type": "execute_result"
    }
   ],
   "source": [
    "response.text"
   ]
  },
  {
   "cell_type": "code",
   "execution_count": 53,
   "id": "72541103",
   "metadata": {},
   "outputs": [],
   "source": [
    "result = response.json()"
   ]
  },
  {
   "cell_type": "code",
   "execution_count": 54,
   "id": "ea8b4778",
   "metadata": {},
   "outputs": [
    {
     "data": {
      "text/plain": [
       "{'langCode': 'en'}"
      ]
     },
     "execution_count": 54,
     "metadata": {},
     "output_type": "execute_result"
    }
   ],
   "source": [
    "result"
   ]
  },
  {
   "cell_type": "code",
   "execution_count": 55,
   "id": "fe99408f",
   "metadata": {},
   "outputs": [
    {
     "data": {
      "text/plain": [
       "'en'"
      ]
     },
     "execution_count": 55,
     "metadata": {},
     "output_type": "execute_result"
    }
   ],
   "source": [
    "result['langCode']"
   ]
  },
  {
   "cell_type": "code",
   "execution_count": 56,
   "id": "f3da7525",
   "metadata": {},
   "outputs": [],
   "source": [
    "language = {\n",
    "    'en':'영어',\n",
    "    'ko':'한국어',\n",
    "    'ja':'일본어',\n",
    "}"
   ]
  },
  {
   "cell_type": "code",
   "execution_count": 60,
   "id": "d05eb3fc",
   "metadata": {},
   "outputs": [
    {
     "data": {
      "text/plain": [
       "'영어'"
      ]
     },
     "execution_count": 60,
     "metadata": {},
     "output_type": "execute_result"
    }
   ],
   "source": [
    "language[result['langCode']]"
   ]
  },
  {
   "cell_type": "code",
   "execution_count": 64,
   "id": "6f411b1b",
   "metadata": {},
   "outputs": [
    {
     "name": "stdout",
     "output_type": "stream",
     "text": [
      "입력한 언어는 영어 입니다\n"
     ]
    }
   ],
   "source": [
    "print('입력한 언어는 ' +language[result['langCode']]+ ' 입니다')"
   ]
  },
  {
   "cell_type": "markdown",
   "id": "5334d722",
   "metadata": {},
   "source": [
    "### 함수로 만들어보기"
   ]
  },
  {
   "cell_type": "code",
   "execution_count": 65,
   "id": "c16e1bc3",
   "metadata": {},
   "outputs": [],
   "source": [
    "def find_language(text):\n",
    "    url = 'https://openapi.naver.com/v1/papago/detectLangs'\n",
    "    \n",
    "    client_id, client_secret = 'MxhDIxvahAWwLvq_pvJO', 'B_aVHkr75m'\n",
    "\n",
    "    headers = {\n",
    "        \"Content-Type\" : \"application/json\", \n",
    "        \"X-Naver-Client-Id\" : client_id,\n",
    "        \"X-Naver-Client-Secret\": client_secret\n",
    "    }\n",
    "\n",
    "    params = {'query' : text}\n",
    "    \n",
    "    response = requests.post(url, json.dumps(params), headers=headers)\n",
    "    \n",
    "    result = response.json()\n",
    "    \n",
    "    language = {\n",
    "    'en':'영어',\n",
    "    'ko':'한국어',\n",
    "    'ja':'일본어',\n",
    "    }\n",
    "    \n",
    "    print('입력한 언어는 ' +language[result['langCode']]+ ' 입니다')\n",
    "    \n"
   ]
  },
  {
   "cell_type": "code",
   "execution_count": 68,
   "id": "b23cc0d0",
   "metadata": {},
   "outputs": [
    {
     "name": "stdout",
     "output_type": "stream",
     "text": [
      "입력한 언어는 영어 입니다\n"
     ]
    }
   ],
   "source": [
    "text = 'Hello My name is 김성중'\n",
    "find_language(text)"
   ]
  }
 ],
 "metadata": {
  "kernelspec": {
   "display_name": "Python 3 (ipykernel)",
   "language": "python",
   "name": "python3"
  },
  "language_info": {
   "codemirror_mode": {
    "name": "ipython",
    "version": 3
   },
   "file_extension": ".py",
   "mimetype": "text/x-python",
   "name": "python",
   "nbconvert_exporter": "python",
   "pygments_lexer": "ipython3",
   "version": "3.7.13"
  }
 },
 "nbformat": 4,
 "nbformat_minor": 5
}
