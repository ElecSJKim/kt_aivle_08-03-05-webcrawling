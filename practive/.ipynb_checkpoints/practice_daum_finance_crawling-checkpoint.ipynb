{
 "cells": [
  {
   "cell_type": "markdown",
   "id": "80a2da61",
   "metadata": {},
   "source": [
    "### 네이버 증권 kospi 일별 지수 크롤링"
   ]
  },
  {
   "cell_type": "code",
   "execution_count": 1,
   "id": "50303a55",
   "metadata": {},
   "outputs": [],
   "source": [
    "import pandas as pd\n",
    "import requests"
   ]
  },
  {
   "cell_type": "code",
   "execution_count": 2,
   "id": "ebe8aa70",
   "metadata": {},
   "outputs": [],
   "source": [
    "url = 'https://m.stock.naver.com/api/index/KOSPI/price?pageSize=10&page=2'"
   ]
  },
  {
   "cell_type": "code",
   "execution_count": 3,
   "id": "39f7a3f2",
   "metadata": {},
   "outputs": [
    {
     "data": {
      "text/plain": [
       "<Response [200]>"
      ]
     },
     "execution_count": 3,
     "metadata": {},
     "output_type": "execute_result"
    }
   ],
   "source": [
    "response = requests.get(url)\n",
    "response"
   ]
  },
  {
   "cell_type": "code",
   "execution_count": 4,
   "id": "1b17207e",
   "metadata": {},
   "outputs": [
    {
     "data": {
      "text/plain": [
       "'[{\"localTradedAt\":\"2022-07-22\",\"closePrice\":\"2,393.14\",\"compareToPreviousClosePrice\":\"-16.02\",\"compareToPreviousPrice\":{\"code\":\"5\",\"text\":\"하락\",\"name\":\"FALLING\"},\"fluctuationsRatio\":\"-0.66\",\"openPrice\":\"2,405.37\",\"highPrice\":\"2,417.91\",\"lowPrice\":\"2,391.48\"},{\"localTradedAt\":\"2022-07-21\",\"closePrice\":\"2,409.16\",\"compareToPreviousClosePrice\":\"22.31\",\"compareToPreviousPrice\":{\"code\":\"2\",\"text\":\"상승\",\"name\":\"RISING\"},\"fluctuationsRatio\":\"0.93\",\"openPrice\":\"2,387.91\",\"highPrice\":\"2,411.96\",\"lowPrice\":\"2,387.91\"},{\"localTradedAt\":\"2022-07-20\",\"closePrice\":\"2,386.85\",\"compareToPreviousClosePrice\":\"15.88\",\"compareToPreviousPrice\":{\"code\":\"2\",\"text\":\"상승\",\"name\":\"RISING\"},\"fluctuationsRatio\":\"0.67\",\"openPrice\":\"2,406.29\",\"highPrice\":\"2,410.06\",\"lowPrice\":\"2,382.65\"},{\"localTradedAt\":\"2022-07-19\",\"closePrice\":\"2,370.97\",\"compareToPreviousClosePrice\":\"-4.28\",\"compareToPreviousPrice\":{\"code\":\"5\",\"text\":\"하락\",\"name\":\"FALLING\"},\"fluctuationsRatio\":\"-0.18\",\"openPrice\":\"2,367.52\",\"highPrice\":\"2,372.74\",\"lowPrice\":\"2,359.59\"},{\"localTradedAt\":\"2022-07-18\",\"closePrice\":\"2,375.25\",\"compareToPreviousClosePrice\":\"44.27\",\"compareToPreviousPrice\":{\"code\":\"2\",\"text\":\"상승\",\"name\":\"RISING\"},\"fluctuationsRatio\":\"1.90\",\"openPrice\":\"2,350.48\",\"highPrice\":\"2,376.50\",\"lowPrice\":\"2,344.12\"},{\"localTradedAt\":\"2022-07-15\",\"closePrice\":\"2,330.98\",\"compareToPreviousClosePrice\":\"8.66\",\"compareToPreviousPrice\":{\"code\":\"2\",\"text\":\"상승\",\"name\":\"RISING\"},\"fluctuationsRatio\":\"0.37\",\"openPrice\":\"2,335.12\",\"highPrice\":\"2,337.30\",\"lowPrice\":\"2,293.45\"},{\"localTradedAt\":\"2022-07-14\",\"closePrice\":\"2,322.32\",\"compareToPreviousClosePrice\":\"-6.29\",\"compareToPreviousPrice\":{\"code\":\"5\",\"text\":\"하락\",\"name\":\"FALLING\"},\"fluctuationsRatio\":\"-0.27\",\"openPrice\":\"2,316.41\",\"highPrice\":\"2,338.29\",\"lowPrice\":\"2,307.69\"},{\"localTradedAt\":\"2022-07-13\",\"closePrice\":\"2,328.61\",\"compareToPreviousClosePrice\":\"10.85\",\"compareToPreviousPrice\":{\"code\":\"2\",\"text\":\"상승\",\"name\":\"RISING\"},\"fluctuationsRatio\":\"0.47\",\"openPrice\":\"2,324.45\",\"highPrice\":\"2,341.19\",\"lowPrice\":\"2,312.49\"},{\"localTradedAt\":\"2022-07-12\",\"closePrice\":\"2,317.76\",\"compareToPreviousClosePrice\":\"-22.51\",\"compareToPreviousPrice\":{\"code\":\"5\",\"text\":\"하락\",\"name\":\"FALLING\"},\"fluctuationsRatio\":\"-0.96\",\"openPrice\":\"2,330.88\",\"highPrice\":\"2,333.02\",\"lowPrice\":\"2,303.74\"},{\"localTradedAt\":\"2022-07-11\",\"closePrice\":\"2,340.27\",\"compareToPreviousClosePrice\":\"-10.34\",\"compareToPreviousPrice\":{\"code\":\"5\",\"text\":\"하락\",\"name\":\"FALLING\"},\"fluctuationsRatio\":\"-0.44\",\"openPrice\":\"2,357.43\",\"highPrice\":\"2,363.26\",\"lowPrice\":\"2,337.82\"}]'"
      ]
     },
     "execution_count": 4,
     "metadata": {},
     "output_type": "execute_result"
    }
   ],
   "source": [
    "response.text"
   ]
  },
  {
   "cell_type": "code",
   "execution_count": 6,
   "id": "322aba7b",
   "metadata": {},
   "outputs": [
    {
     "data": {
      "text/plain": [
       "[{'localTradedAt': '2022-07-22',\n",
       "  'closePrice': '2,393.14',\n",
       "  'compareToPreviousClosePrice': '-16.02',\n",
       "  'compareToPreviousPrice': {'code': '5', 'text': '하락', 'name': 'FALLING'},\n",
       "  'fluctuationsRatio': '-0.66',\n",
       "  'openPrice': '2,405.37',\n",
       "  'highPrice': '2,417.91',\n",
       "  'lowPrice': '2,391.48'},\n",
       " {'localTradedAt': '2022-07-21',\n",
       "  'closePrice': '2,409.16',\n",
       "  'compareToPreviousClosePrice': '22.31',\n",
       "  'compareToPreviousPrice': {'code': '2', 'text': '상승', 'name': 'RISING'},\n",
       "  'fluctuationsRatio': '0.93',\n",
       "  'openPrice': '2,387.91',\n",
       "  'highPrice': '2,411.96',\n",
       "  'lowPrice': '2,387.91'},\n",
       " {'localTradedAt': '2022-07-20',\n",
       "  'closePrice': '2,386.85',\n",
       "  'compareToPreviousClosePrice': '15.88',\n",
       "  'compareToPreviousPrice': {'code': '2', 'text': '상승', 'name': 'RISING'},\n",
       "  'fluctuationsRatio': '0.67',\n",
       "  'openPrice': '2,406.29',\n",
       "  'highPrice': '2,410.06',\n",
       "  'lowPrice': '2,382.65'},\n",
       " {'localTradedAt': '2022-07-19',\n",
       "  'closePrice': '2,370.97',\n",
       "  'compareToPreviousClosePrice': '-4.28',\n",
       "  'compareToPreviousPrice': {'code': '5', 'text': '하락', 'name': 'FALLING'},\n",
       "  'fluctuationsRatio': '-0.18',\n",
       "  'openPrice': '2,367.52',\n",
       "  'highPrice': '2,372.74',\n",
       "  'lowPrice': '2,359.59'},\n",
       " {'localTradedAt': '2022-07-18',\n",
       "  'closePrice': '2,375.25',\n",
       "  'compareToPreviousClosePrice': '44.27',\n",
       "  'compareToPreviousPrice': {'code': '2', 'text': '상승', 'name': 'RISING'},\n",
       "  'fluctuationsRatio': '1.90',\n",
       "  'openPrice': '2,350.48',\n",
       "  'highPrice': '2,376.50',\n",
       "  'lowPrice': '2,344.12'},\n",
       " {'localTradedAt': '2022-07-15',\n",
       "  'closePrice': '2,330.98',\n",
       "  'compareToPreviousClosePrice': '8.66',\n",
       "  'compareToPreviousPrice': {'code': '2', 'text': '상승', 'name': 'RISING'},\n",
       "  'fluctuationsRatio': '0.37',\n",
       "  'openPrice': '2,335.12',\n",
       "  'highPrice': '2,337.30',\n",
       "  'lowPrice': '2,293.45'},\n",
       " {'localTradedAt': '2022-07-14',\n",
       "  'closePrice': '2,322.32',\n",
       "  'compareToPreviousClosePrice': '-6.29',\n",
       "  'compareToPreviousPrice': {'code': '5', 'text': '하락', 'name': 'FALLING'},\n",
       "  'fluctuationsRatio': '-0.27',\n",
       "  'openPrice': '2,316.41',\n",
       "  'highPrice': '2,338.29',\n",
       "  'lowPrice': '2,307.69'},\n",
       " {'localTradedAt': '2022-07-13',\n",
       "  'closePrice': '2,328.61',\n",
       "  'compareToPreviousClosePrice': '10.85',\n",
       "  'compareToPreviousPrice': {'code': '2', 'text': '상승', 'name': 'RISING'},\n",
       "  'fluctuationsRatio': '0.47',\n",
       "  'openPrice': '2,324.45',\n",
       "  'highPrice': '2,341.19',\n",
       "  'lowPrice': '2,312.49'},\n",
       " {'localTradedAt': '2022-07-12',\n",
       "  'closePrice': '2,317.76',\n",
       "  'compareToPreviousClosePrice': '-22.51',\n",
       "  'compareToPreviousPrice': {'code': '5', 'text': '하락', 'name': 'FALLING'},\n",
       "  'fluctuationsRatio': '-0.96',\n",
       "  'openPrice': '2,330.88',\n",
       "  'highPrice': '2,333.02',\n",
       "  'lowPrice': '2,303.74'},\n",
       " {'localTradedAt': '2022-07-11',\n",
       "  'closePrice': '2,340.27',\n",
       "  'compareToPreviousClosePrice': '-10.34',\n",
       "  'compareToPreviousPrice': {'code': '5', 'text': '하락', 'name': 'FALLING'},\n",
       "  'fluctuationsRatio': '-0.44',\n",
       "  'openPrice': '2,357.43',\n",
       "  'highPrice': '2,363.26',\n",
       "  'lowPrice': '2,337.82'}]"
      ]
     },
     "execution_count": 6,
     "metadata": {},
     "output_type": "execute_result"
    }
   ],
   "source": [
    "result = response.json()\n",
    "result"
   ]
  },
  {
   "cell_type": "code",
   "execution_count": 7,
   "id": "9e9c10fb",
   "metadata": {},
   "outputs": [
    {
     "data": {
      "text/plain": [
       "10"
      ]
     },
     "execution_count": 7,
     "metadata": {},
     "output_type": "execute_result"
    }
   ],
   "source": [
    "len(result)"
   ]
  },
  {
   "cell_type": "code",
   "execution_count": 9,
   "id": "0d380b4e",
   "metadata": {},
   "outputs": [
    {
     "data": {
      "text/plain": [
       "['2022-07-22',\n",
       " '2022-07-21',\n",
       " '2022-07-20',\n",
       " '2022-07-19',\n",
       " '2022-07-18',\n",
       " '2022-07-15',\n",
       " '2022-07-14',\n",
       " '2022-07-13',\n",
       " '2022-07-12',\n",
       " '2022-07-11']"
      ]
     },
     "execution_count": 9,
     "metadata": {},
     "output_type": "execute_result"
    }
   ],
   "source": [
    "date = [element['localTradedAt'] for element in result]\n",
    "date"
   ]
  },
  {
   "cell_type": "code",
   "execution_count": 10,
   "id": "2ad97abf",
   "metadata": {},
   "outputs": [
    {
     "data": {
      "text/plain": [
       "['2,393.14',\n",
       " '2,409.16',\n",
       " '2,386.85',\n",
       " '2,370.97',\n",
       " '2,375.25',\n",
       " '2,330.98',\n",
       " '2,322.32',\n",
       " '2,328.61',\n",
       " '2,317.76',\n",
       " '2,340.27']"
      ]
     },
     "execution_count": 10,
     "metadata": {},
     "output_type": "execute_result"
    }
   ],
   "source": [
    "price = [element['closePrice'] for element in result]\n",
    "price"
   ]
  },
  {
   "cell_type": "code",
   "execution_count": 23,
   "id": "b747ab10",
   "metadata": {},
   "outputs": [],
   "source": [
    "df['date'] = date"
   ]
  },
  {
   "cell_type": "code",
   "execution_count": 24,
   "id": "f01d3761",
   "metadata": {},
   "outputs": [],
   "source": [
    "df['price'] = price"
   ]
  },
  {
   "cell_type": "code",
   "execution_count": 25,
   "id": "ef8f1c41",
   "metadata": {},
   "outputs": [
    {
     "data": {
      "text/html": [
       "<div>\n",
       "<style scoped>\n",
       "    .dataframe tbody tr th:only-of-type {\n",
       "        vertical-align: middle;\n",
       "    }\n",
       "\n",
       "    .dataframe tbody tr th {\n",
       "        vertical-align: top;\n",
       "    }\n",
       "\n",
       "    .dataframe thead th {\n",
       "        text-align: right;\n",
       "    }\n",
       "</style>\n",
       "<table border=\"1\" class=\"dataframe\">\n",
       "  <thead>\n",
       "    <tr style=\"text-align: right;\">\n",
       "      <th></th>\n",
       "      <th>0</th>\n",
       "      <th>date</th>\n",
       "      <th>price</th>\n",
       "    </tr>\n",
       "  </thead>\n",
       "  <tbody>\n",
       "    <tr>\n",
       "      <th>0</th>\n",
       "      <td>2022-07-22</td>\n",
       "      <td>2022-07-22</td>\n",
       "      <td>2,393.14</td>\n",
       "    </tr>\n",
       "    <tr>\n",
       "      <th>1</th>\n",
       "      <td>2022-07-21</td>\n",
       "      <td>2022-07-21</td>\n",
       "      <td>2,409.16</td>\n",
       "    </tr>\n",
       "    <tr>\n",
       "      <th>2</th>\n",
       "      <td>2022-07-20</td>\n",
       "      <td>2022-07-20</td>\n",
       "      <td>2,386.85</td>\n",
       "    </tr>\n",
       "    <tr>\n",
       "      <th>3</th>\n",
       "      <td>2022-07-19</td>\n",
       "      <td>2022-07-19</td>\n",
       "      <td>2,370.97</td>\n",
       "    </tr>\n",
       "    <tr>\n",
       "      <th>4</th>\n",
       "      <td>2022-07-18</td>\n",
       "      <td>2022-07-18</td>\n",
       "      <td>2,375.25</td>\n",
       "    </tr>\n",
       "    <tr>\n",
       "      <th>5</th>\n",
       "      <td>2022-07-15</td>\n",
       "      <td>2022-07-15</td>\n",
       "      <td>2,330.98</td>\n",
       "    </tr>\n",
       "    <tr>\n",
       "      <th>6</th>\n",
       "      <td>2022-07-14</td>\n",
       "      <td>2022-07-14</td>\n",
       "      <td>2,322.32</td>\n",
       "    </tr>\n",
       "    <tr>\n",
       "      <th>7</th>\n",
       "      <td>2022-07-13</td>\n",
       "      <td>2022-07-13</td>\n",
       "      <td>2,328.61</td>\n",
       "    </tr>\n",
       "    <tr>\n",
       "      <th>8</th>\n",
       "      <td>2022-07-12</td>\n",
       "      <td>2022-07-12</td>\n",
       "      <td>2,317.76</td>\n",
       "    </tr>\n",
       "    <tr>\n",
       "      <th>9</th>\n",
       "      <td>2022-07-11</td>\n",
       "      <td>2022-07-11</td>\n",
       "      <td>2,340.27</td>\n",
       "    </tr>\n",
       "  </tbody>\n",
       "</table>\n",
       "</div>"
      ],
      "text/plain": [
       "            0        date     price\n",
       "0  2022-07-22  2022-07-22  2,393.14\n",
       "1  2022-07-21  2022-07-21  2,409.16\n",
       "2  2022-07-20  2022-07-20  2,386.85\n",
       "3  2022-07-19  2022-07-19  2,370.97\n",
       "4  2022-07-18  2022-07-18  2,375.25\n",
       "5  2022-07-15  2022-07-15  2,330.98\n",
       "6  2022-07-14  2022-07-14  2,322.32\n",
       "7  2022-07-13  2022-07-13  2,328.61\n",
       "8  2022-07-12  2022-07-12  2,317.76\n",
       "9  2022-07-11  2022-07-11  2,340.27"
      ]
     },
     "execution_count": 25,
     "metadata": {},
     "output_type": "execute_result"
    }
   ],
   "source": [
    "df"
   ]
  },
  {
   "cell_type": "code",
   "execution_count": 26,
   "id": "17a8b5d7",
   "metadata": {},
   "outputs": [],
   "source": [
    "df.drop(0, axis = 1, inplace = True)"
   ]
  },
  {
   "cell_type": "code",
   "execution_count": 27,
   "id": "5df8daf9",
   "metadata": {},
   "outputs": [
    {
     "data": {
      "text/html": [
       "<div>\n",
       "<style scoped>\n",
       "    .dataframe tbody tr th:only-of-type {\n",
       "        vertical-align: middle;\n",
       "    }\n",
       "\n",
       "    .dataframe tbody tr th {\n",
       "        vertical-align: top;\n",
       "    }\n",
       "\n",
       "    .dataframe thead th {\n",
       "        text-align: right;\n",
       "    }\n",
       "</style>\n",
       "<table border=\"1\" class=\"dataframe\">\n",
       "  <thead>\n",
       "    <tr style=\"text-align: right;\">\n",
       "      <th></th>\n",
       "      <th>date</th>\n",
       "      <th>price</th>\n",
       "    </tr>\n",
       "  </thead>\n",
       "  <tbody>\n",
       "    <tr>\n",
       "      <th>0</th>\n",
       "      <td>2022-07-22</td>\n",
       "      <td>2,393.14</td>\n",
       "    </tr>\n",
       "    <tr>\n",
       "      <th>1</th>\n",
       "      <td>2022-07-21</td>\n",
       "      <td>2,409.16</td>\n",
       "    </tr>\n",
       "    <tr>\n",
       "      <th>2</th>\n",
       "      <td>2022-07-20</td>\n",
       "      <td>2,386.85</td>\n",
       "    </tr>\n",
       "    <tr>\n",
       "      <th>3</th>\n",
       "      <td>2022-07-19</td>\n",
       "      <td>2,370.97</td>\n",
       "    </tr>\n",
       "    <tr>\n",
       "      <th>4</th>\n",
       "      <td>2022-07-18</td>\n",
       "      <td>2,375.25</td>\n",
       "    </tr>\n",
       "    <tr>\n",
       "      <th>5</th>\n",
       "      <td>2022-07-15</td>\n",
       "      <td>2,330.98</td>\n",
       "    </tr>\n",
       "    <tr>\n",
       "      <th>6</th>\n",
       "      <td>2022-07-14</td>\n",
       "      <td>2,322.32</td>\n",
       "    </tr>\n",
       "    <tr>\n",
       "      <th>7</th>\n",
       "      <td>2022-07-13</td>\n",
       "      <td>2,328.61</td>\n",
       "    </tr>\n",
       "    <tr>\n",
       "      <th>8</th>\n",
       "      <td>2022-07-12</td>\n",
       "      <td>2,317.76</td>\n",
       "    </tr>\n",
       "    <tr>\n",
       "      <th>9</th>\n",
       "      <td>2022-07-11</td>\n",
       "      <td>2,340.27</td>\n",
       "    </tr>\n",
       "  </tbody>\n",
       "</table>\n",
       "</div>"
      ],
      "text/plain": [
       "         date     price\n",
       "0  2022-07-22  2,393.14\n",
       "1  2022-07-21  2,409.16\n",
       "2  2022-07-20  2,386.85\n",
       "3  2022-07-19  2,370.97\n",
       "4  2022-07-18  2,375.25\n",
       "5  2022-07-15  2,330.98\n",
       "6  2022-07-14  2,322.32\n",
       "7  2022-07-13  2,328.61\n",
       "8  2022-07-12  2,317.76\n",
       "9  2022-07-11  2,340.27"
      ]
     },
     "execution_count": 27,
     "metadata": {},
     "output_type": "execute_result"
    }
   ],
   "source": [
    "df"
   ]
  },
  {
   "cell_type": "code",
   "execution_count": null,
   "id": "1803c7c5",
   "metadata": {},
   "outputs": [],
   "source": []
  }
 ],
 "metadata": {
  "kernelspec": {
   "display_name": "Python 3 (ipykernel)",
   "language": "python",
   "name": "python3"
  },
  "language_info": {
   "codemirror_mode": {
    "name": "ipython",
    "version": 3
   },
   "file_extension": ".py",
   "mimetype": "text/x-python",
   "name": "python",
   "nbconvert_exporter": "python",
   "pygments_lexer": "ipython3",
   "version": "3.7.13"
  }
 },
 "nbformat": 4,
 "nbformat_minor": 5
}
