{
 "cells": [
  {
   "cell_type": "markdown",
   "id": "52d4546d",
   "metadata": {},
   "source": [
    "### 네이버 증권 kospi 일별 지수 크롤링\n",
    "- 크롤링 후 데이터프레임으로 변환"
   ]
  },
  {
   "cell_type": "code",
   "execution_count": 1,
   "id": "17a0325b",
   "metadata": {},
   "outputs": [],
   "source": [
    "import pandas as pd\n",
    "import requests"
   ]
  },
  {
   "cell_type": "code",
   "execution_count": 2,
   "id": "1ea34a41",
   "metadata": {},
   "outputs": [],
   "source": [
    "url = 'https://m.stock.naver.com/api/index/KOSPI/price?pageSize=10&page=2'"
   ]
  },
  {
   "cell_type": "code",
   "execution_count": 3,
   "id": "e256b3e5",
   "metadata": {},
   "outputs": [
    {
     "data": {
      "text/plain": [
       "<Response [200]>"
      ]
     },
     "execution_count": 3,
     "metadata": {},
     "output_type": "execute_result"
    }
   ],
   "source": [
    "response = requests.get(url)\n",
    "response"
   ]
  },
  {
   "cell_type": "code",
   "execution_count": 4,
   "id": "fb002faf",
   "metadata": {},
   "outputs": [
    {
     "data": {
      "text/plain": [
       "'[{\"localTradedAt\":\"2022-07-22\",\"closePrice\":\"2,393.14\",\"compareToPreviousClosePrice\":\"-16.02\",\"compareToPreviousPrice\":{\"code\":\"5\",\"text\":\"하락\",\"name\":\"FALLING\"},\"fluctuationsRatio\":\"-0.66\",\"openPrice\":\"2,405.37\",\"highPrice\":\"2,417.91\",\"lowPrice\":\"2,391.48\"},{\"localTradedAt\":\"2022-07-21\",\"closePrice\":\"2,409.16\",\"compareToPreviousClosePrice\":\"22.31\",\"compareToPreviousPrice\":{\"code\":\"2\",\"text\":\"상승\",\"name\":\"RISING\"},\"fluctuationsRatio\":\"0.93\",\"openPrice\":\"2,387.91\",\"highPrice\":\"2,411.96\",\"lowPrice\":\"2,387.91\"},{\"localTradedAt\":\"2022-07-20\",\"closePrice\":\"2,386.85\",\"compareToPreviousClosePrice\":\"15.88\",\"compareToPreviousPrice\":{\"code\":\"2\",\"text\":\"상승\",\"name\":\"RISING\"},\"fluctuationsRatio\":\"0.67\",\"openPrice\":\"2,406.29\",\"highPrice\":\"2,410.06\",\"lowPrice\":\"2,382.65\"},{\"localTradedAt\":\"2022-07-19\",\"closePrice\":\"2,370.97\",\"compareToPreviousClosePrice\":\"-4.28\",\"compareToPreviousPrice\":{\"code\":\"5\",\"text\":\"하락\",\"name\":\"FALLING\"},\"fluctuationsRatio\":\"-0.18\",\"openPrice\":\"2,367.52\",\"highPrice\":\"2,372.74\",\"lowPrice\":\"2,359.59\"},{\"localTradedAt\":\"2022-07-18\",\"closePrice\":\"2,375.25\",\"compareToPreviousClosePrice\":\"44.27\",\"compareToPreviousPrice\":{\"code\":\"2\",\"text\":\"상승\",\"name\":\"RISING\"},\"fluctuationsRatio\":\"1.90\",\"openPrice\":\"2,350.48\",\"highPrice\":\"2,376.50\",\"lowPrice\":\"2,344.12\"},{\"localTradedAt\":\"2022-07-15\",\"closePrice\":\"2,330.98\",\"compareToPreviousClosePrice\":\"8.66\",\"compareToPreviousPrice\":{\"code\":\"2\",\"text\":\"상승\",\"name\":\"RISING\"},\"fluctuationsRatio\":\"0.37\",\"openPrice\":\"2,335.12\",\"highPrice\":\"2,337.30\",\"lowPrice\":\"2,293.45\"},{\"localTradedAt\":\"2022-07-14\",\"closePrice\":\"2,322.32\",\"compareToPreviousClosePrice\":\"-6.29\",\"compareToPreviousPrice\":{\"code\":\"5\",\"text\":\"하락\",\"name\":\"FALLING\"},\"fluctuationsRatio\":\"-0.27\",\"openPrice\":\"2,316.41\",\"highPrice\":\"2,338.29\",\"lowPrice\":\"2,307.69\"},{\"localTradedAt\":\"2022-07-13\",\"closePrice\":\"2,328.61\",\"compareToPreviousClosePrice\":\"10.85\",\"compareToPreviousPrice\":{\"code\":\"2\",\"text\":\"상승\",\"name\":\"RISING\"},\"fluctuationsRatio\":\"0.47\",\"openPrice\":\"2,324.45\",\"highPrice\":\"2,341.19\",\"lowPrice\":\"2,312.49\"},{\"localTradedAt\":\"2022-07-12\",\"closePrice\":\"2,317.76\",\"compareToPreviousClosePrice\":\"-22.51\",\"compareToPreviousPrice\":{\"code\":\"5\",\"text\":\"하락\",\"name\":\"FALLING\"},\"fluctuationsRatio\":\"-0.96\",\"openPrice\":\"2,330.88\",\"highPrice\":\"2,333.02\",\"lowPrice\":\"2,303.74\"},{\"localTradedAt\":\"2022-07-11\",\"closePrice\":\"2,340.27\",\"compareToPreviousClosePrice\":\"-10.34\",\"compareToPreviousPrice\":{\"code\":\"5\",\"text\":\"하락\",\"name\":\"FALLING\"},\"fluctuationsRatio\":\"-0.44\",\"openPrice\":\"2,357.43\",\"highPrice\":\"2,363.26\",\"lowPrice\":\"2,337.82\"}]'"
      ]
     },
     "execution_count": 4,
     "metadata": {},
     "output_type": "execute_result"
    }
   ],
   "source": [
    "response.text"
   ]
  },
  {
   "cell_type": "code",
   "execution_count": 28,
   "id": "bd179e84",
   "metadata": {},
   "outputs": [
    {
     "data": {
      "text/plain": [
       "[{'localTradedAt': '2022-07-22',\n",
       "  'closePrice': '2,393.14',\n",
       "  'compareToPreviousClosePrice': '-16.02',\n",
       "  'compareToPreviousPrice': {'code': '5', 'text': '하락', 'name': 'FALLING'},\n",
       "  'fluctuationsRatio': '-0.66',\n",
       "  'openPrice': '2,405.37',\n",
       "  'highPrice': '2,417.91',\n",
       "  'lowPrice': '2,391.48'},\n",
       " {'localTradedAt': '2022-07-21',\n",
       "  'closePrice': '2,409.16',\n",
       "  'compareToPreviousClosePrice': '22.31',\n",
       "  'compareToPreviousPrice': {'code': '2', 'text': '상승', 'name': 'RISING'},\n",
       "  'fluctuationsRatio': '0.93',\n",
       "  'openPrice': '2,387.91',\n",
       "  'highPrice': '2,411.96',\n",
       "  'lowPrice': '2,387.91'}]"
      ]
     },
     "execution_count": 28,
     "metadata": {},
     "output_type": "execute_result"
    }
   ],
   "source": [
    "result = response.json()\n",
    "result[:2]"
   ]
  },
  {
   "cell_type": "code",
   "execution_count": 7,
   "id": "e14080df",
   "metadata": {},
   "outputs": [
    {
     "data": {
      "text/plain": [
       "10"
      ]
     },
     "execution_count": 7,
     "metadata": {},
     "output_type": "execute_result"
    }
   ],
   "source": [
    "len(result)"
   ]
  },
  {
   "cell_type": "code",
   "execution_count": 9,
   "id": "28075e9b",
   "metadata": {},
   "outputs": [
    {
     "data": {
      "text/plain": [
       "['2022-07-22',\n",
       " '2022-07-21',\n",
       " '2022-07-20',\n",
       " '2022-07-19',\n",
       " '2022-07-18',\n",
       " '2022-07-15',\n",
       " '2022-07-14',\n",
       " '2022-07-13',\n",
       " '2022-07-12',\n",
       " '2022-07-11']"
      ]
     },
     "execution_count": 9,
     "metadata": {},
     "output_type": "execute_result"
    }
   ],
   "source": [
    "date = [element['localTradedAt'] for element in result]\n",
    "date"
   ]
  },
  {
   "cell_type": "code",
   "execution_count": 10,
   "id": "8c3a93a9",
   "metadata": {},
   "outputs": [
    {
     "data": {
      "text/plain": [
       "['2,393.14',\n",
       " '2,409.16',\n",
       " '2,386.85',\n",
       " '2,370.97',\n",
       " '2,375.25',\n",
       " '2,330.98',\n",
       " '2,322.32',\n",
       " '2,328.61',\n",
       " '2,317.76',\n",
       " '2,340.27']"
      ]
     },
     "execution_count": 10,
     "metadata": {},
     "output_type": "execute_result"
    }
   ],
   "source": [
    "price = [element['closePrice'] for element in result]\n",
    "price"
   ]
  },
  {
   "cell_type": "code",
   "execution_count": 23,
   "id": "5ebaddf8",
   "metadata": {},
   "outputs": [],
   "source": [
    "df['date'] = date"
   ]
  },
  {
   "cell_type": "code",
   "execution_count": 24,
   "id": "43505c49",
   "metadata": {},
   "outputs": [],
   "source": [
    "df['price'] = price"
   ]
  },
  {
   "cell_type": "code",
   "execution_count": 25,
   "id": "48f14b10",
   "metadata": {},
   "outputs": [
    {
     "data": {
      "text/html": [
       "<div>\n",
       "<style scoped>\n",
       "    .dataframe tbody tr th:only-of-type {\n",
       "        vertical-align: middle;\n",
       "    }\n",
       "\n",
       "    .dataframe tbody tr th {\n",
       "        vertical-align: top;\n",
       "    }\n",
       "\n",
       "    .dataframe thead th {\n",
       "        text-align: right;\n",
       "    }\n",
       "</style>\n",
       "<table border=\"1\" class=\"dataframe\">\n",
       "  <thead>\n",
       "    <tr style=\"text-align: right;\">\n",
       "      <th></th>\n",
       "      <th>0</th>\n",
       "      <th>date</th>\n",
       "      <th>price</th>\n",
       "    </tr>\n",
       "  </thead>\n",
       "  <tbody>\n",
       "    <tr>\n",
       "      <th>0</th>\n",
       "      <td>2022-07-22</td>\n",
       "      <td>2022-07-22</td>\n",
       "      <td>2,393.14</td>\n",
       "    </tr>\n",
       "    <tr>\n",
       "      <th>1</th>\n",
       "      <td>2022-07-21</td>\n",
       "      <td>2022-07-21</td>\n",
       "      <td>2,409.16</td>\n",
       "    </tr>\n",
       "    <tr>\n",
       "      <th>2</th>\n",
       "      <td>2022-07-20</td>\n",
       "      <td>2022-07-20</td>\n",
       "      <td>2,386.85</td>\n",
       "    </tr>\n",
       "    <tr>\n",
       "      <th>3</th>\n",
       "      <td>2022-07-19</td>\n",
       "      <td>2022-07-19</td>\n",
       "      <td>2,370.97</td>\n",
       "    </tr>\n",
       "    <tr>\n",
       "      <th>4</th>\n",
       "      <td>2022-07-18</td>\n",
       "      <td>2022-07-18</td>\n",
       "      <td>2,375.25</td>\n",
       "    </tr>\n",
       "    <tr>\n",
       "      <th>5</th>\n",
       "      <td>2022-07-15</td>\n",
       "      <td>2022-07-15</td>\n",
       "      <td>2,330.98</td>\n",
       "    </tr>\n",
       "    <tr>\n",
       "      <th>6</th>\n",
       "      <td>2022-07-14</td>\n",
       "      <td>2022-07-14</td>\n",
       "      <td>2,322.32</td>\n",
       "    </tr>\n",
       "    <tr>\n",
       "      <th>7</th>\n",
       "      <td>2022-07-13</td>\n",
       "      <td>2022-07-13</td>\n",
       "      <td>2,328.61</td>\n",
       "    </tr>\n",
       "    <tr>\n",
       "      <th>8</th>\n",
       "      <td>2022-07-12</td>\n",
       "      <td>2022-07-12</td>\n",
       "      <td>2,317.76</td>\n",
       "    </tr>\n",
       "    <tr>\n",
       "      <th>9</th>\n",
       "      <td>2022-07-11</td>\n",
       "      <td>2022-07-11</td>\n",
       "      <td>2,340.27</td>\n",
       "    </tr>\n",
       "  </tbody>\n",
       "</table>\n",
       "</div>"
      ],
      "text/plain": [
       "            0        date     price\n",
       "0  2022-07-22  2022-07-22  2,393.14\n",
       "1  2022-07-21  2022-07-21  2,409.16\n",
       "2  2022-07-20  2022-07-20  2,386.85\n",
       "3  2022-07-19  2022-07-19  2,370.97\n",
       "4  2022-07-18  2022-07-18  2,375.25\n",
       "5  2022-07-15  2022-07-15  2,330.98\n",
       "6  2022-07-14  2022-07-14  2,322.32\n",
       "7  2022-07-13  2022-07-13  2,328.61\n",
       "8  2022-07-12  2022-07-12  2,317.76\n",
       "9  2022-07-11  2022-07-11  2,340.27"
      ]
     },
     "execution_count": 25,
     "metadata": {},
     "output_type": "execute_result"
    }
   ],
   "source": [
    "df"
   ]
  },
  {
   "cell_type": "code",
   "execution_count": 26,
   "id": "605c207c",
   "metadata": {},
   "outputs": [],
   "source": [
    "df.drop(0, axis = 1, inplace = True)"
   ]
  },
  {
   "cell_type": "code",
   "execution_count": 27,
   "id": "a3cfac15",
   "metadata": {},
   "outputs": [
    {
     "data": {
      "text/html": [
       "<div>\n",
       "<style scoped>\n",
       "    .dataframe tbody tr th:only-of-type {\n",
       "        vertical-align: middle;\n",
       "    }\n",
       "\n",
       "    .dataframe tbody tr th {\n",
       "        vertical-align: top;\n",
       "    }\n",
       "\n",
       "    .dataframe thead th {\n",
       "        text-align: right;\n",
       "    }\n",
       "</style>\n",
       "<table border=\"1\" class=\"dataframe\">\n",
       "  <thead>\n",
       "    <tr style=\"text-align: right;\">\n",
       "      <th></th>\n",
       "      <th>date</th>\n",
       "      <th>price</th>\n",
       "    </tr>\n",
       "  </thead>\n",
       "  <tbody>\n",
       "    <tr>\n",
       "      <th>0</th>\n",
       "      <td>2022-07-22</td>\n",
       "      <td>2,393.14</td>\n",
       "    </tr>\n",
       "    <tr>\n",
       "      <th>1</th>\n",
       "      <td>2022-07-21</td>\n",
       "      <td>2,409.16</td>\n",
       "    </tr>\n",
       "    <tr>\n",
       "      <th>2</th>\n",
       "      <td>2022-07-20</td>\n",
       "      <td>2,386.85</td>\n",
       "    </tr>\n",
       "    <tr>\n",
       "      <th>3</th>\n",
       "      <td>2022-07-19</td>\n",
       "      <td>2,370.97</td>\n",
       "    </tr>\n",
       "    <tr>\n",
       "      <th>4</th>\n",
       "      <td>2022-07-18</td>\n",
       "      <td>2,375.25</td>\n",
       "    </tr>\n",
       "    <tr>\n",
       "      <th>5</th>\n",
       "      <td>2022-07-15</td>\n",
       "      <td>2,330.98</td>\n",
       "    </tr>\n",
       "    <tr>\n",
       "      <th>6</th>\n",
       "      <td>2022-07-14</td>\n",
       "      <td>2,322.32</td>\n",
       "    </tr>\n",
       "    <tr>\n",
       "      <th>7</th>\n",
       "      <td>2022-07-13</td>\n",
       "      <td>2,328.61</td>\n",
       "    </tr>\n",
       "    <tr>\n",
       "      <th>8</th>\n",
       "      <td>2022-07-12</td>\n",
       "      <td>2,317.76</td>\n",
       "    </tr>\n",
       "    <tr>\n",
       "      <th>9</th>\n",
       "      <td>2022-07-11</td>\n",
       "      <td>2,340.27</td>\n",
       "    </tr>\n",
       "  </tbody>\n",
       "</table>\n",
       "</div>"
      ],
      "text/plain": [
       "         date     price\n",
       "0  2022-07-22  2,393.14\n",
       "1  2022-07-21  2,409.16\n",
       "2  2022-07-20  2,386.85\n",
       "3  2022-07-19  2,370.97\n",
       "4  2022-07-18  2,375.25\n",
       "5  2022-07-15  2,330.98\n",
       "6  2022-07-14  2,322.32\n",
       "7  2022-07-13  2,328.61\n",
       "8  2022-07-12  2,317.76\n",
       "9  2022-07-11  2,340.27"
      ]
     },
     "execution_count": 27,
     "metadata": {},
     "output_type": "execute_result"
    }
   ],
   "source": [
    "df"
   ]
  },
  {
   "cell_type": "markdown",
   "id": "96a615c7",
   "metadata": {},
   "source": [
    "### 함수로 적용"
   ]
  },
  {
   "cell_type": "code",
   "execution_count": 38,
   "id": "22048115",
   "metadata": {},
   "outputs": [],
   "source": [
    "def get_stockdata(index, name, pagesize, page):\n",
    "    url = f'https://m.stock.naver.com/api/{index}/{name}/price?pageSize={pagesize}&page={page}'\n",
    "    \n",
    "    response = requests.get(url)\n",
    "    result = response.json()\n",
    "    date = [element['localTradedAt'] for element in result]\n",
    "    price = [element['closePrice'] for element in result]\n",
    "    \n",
    "    data = {'date':date, 'price':price}\n",
    "    \n",
    "    return pd.DataFrame(data)"
   ]
  },
  {
   "cell_type": "code",
   "execution_count": 42,
   "id": "dc02f22c",
   "metadata": {},
   "outputs": [
    {
     "data": {
      "text/html": [
       "<div>\n",
       "<style scoped>\n",
       "    .dataframe tbody tr th:only-of-type {\n",
       "        vertical-align: middle;\n",
       "    }\n",
       "\n",
       "    .dataframe tbody tr th {\n",
       "        vertical-align: top;\n",
       "    }\n",
       "\n",
       "    .dataframe thead th {\n",
       "        text-align: right;\n",
       "    }\n",
       "</style>\n",
       "<table border=\"1\" class=\"dataframe\">\n",
       "  <thead>\n",
       "    <tr style=\"text-align: right;\">\n",
       "      <th></th>\n",
       "      <th>date</th>\n",
       "      <th>price</th>\n",
       "    </tr>\n",
       "  </thead>\n",
       "  <tbody>\n",
       "    <tr>\n",
       "      <th>0</th>\n",
       "      <td>2022-08-05</td>\n",
       "      <td>2,490.80</td>\n",
       "    </tr>\n",
       "    <tr>\n",
       "      <th>1</th>\n",
       "      <td>2022-08-04</td>\n",
       "      <td>2,473.11</td>\n",
       "    </tr>\n",
       "    <tr>\n",
       "      <th>2</th>\n",
       "      <td>2022-08-03</td>\n",
       "      <td>2,461.45</td>\n",
       "    </tr>\n",
       "    <tr>\n",
       "      <th>3</th>\n",
       "      <td>2022-08-02</td>\n",
       "      <td>2,439.62</td>\n",
       "    </tr>\n",
       "    <tr>\n",
       "      <th>4</th>\n",
       "      <td>2022-08-01</td>\n",
       "      <td>2,452.25</td>\n",
       "    </tr>\n",
       "  </tbody>\n",
       "</table>\n",
       "</div>"
      ],
      "text/plain": [
       "         date     price\n",
       "0  2022-08-05  2,490.80\n",
       "1  2022-08-04  2,473.11\n",
       "2  2022-08-03  2,461.45\n",
       "3  2022-08-02  2,439.62\n",
       "4  2022-08-01  2,452.25"
      ]
     },
     "execution_count": 42,
     "metadata": {},
     "output_type": "execute_result"
    }
   ],
   "source": [
    "KOSPI = get_stockdata('index','KOSPI',60,1)\n",
    "KOSPI.head()"
   ]
  },
  {
   "cell_type": "code",
   "execution_count": 43,
   "id": "fdb789b1",
   "metadata": {},
   "outputs": [
    {
     "data": {
      "text/html": [
       "<div>\n",
       "<style scoped>\n",
       "    .dataframe tbody tr th:only-of-type {\n",
       "        vertical-align: middle;\n",
       "    }\n",
       "\n",
       "    .dataframe tbody tr th {\n",
       "        vertical-align: top;\n",
       "    }\n",
       "\n",
       "    .dataframe thead th {\n",
       "        text-align: right;\n",
       "    }\n",
       "</style>\n",
       "<table border=\"1\" class=\"dataframe\">\n",
       "  <thead>\n",
       "    <tr style=\"text-align: right;\">\n",
       "      <th></th>\n",
       "      <th>date</th>\n",
       "      <th>price</th>\n",
       "    </tr>\n",
       "  </thead>\n",
       "  <tbody>\n",
       "    <tr>\n",
       "      <th>0</th>\n",
       "      <td>2022-08-05</td>\n",
       "      <td>61,500</td>\n",
       "    </tr>\n",
       "    <tr>\n",
       "      <th>1</th>\n",
       "      <td>2022-08-04</td>\n",
       "      <td>61,500</td>\n",
       "    </tr>\n",
       "    <tr>\n",
       "      <th>2</th>\n",
       "      <td>2022-08-03</td>\n",
       "      <td>61,300</td>\n",
       "    </tr>\n",
       "    <tr>\n",
       "      <th>3</th>\n",
       "      <td>2022-08-02</td>\n",
       "      <td>61,700</td>\n",
       "    </tr>\n",
       "    <tr>\n",
       "      <th>4</th>\n",
       "      <td>2022-08-01</td>\n",
       "      <td>61,300</td>\n",
       "    </tr>\n",
       "  </tbody>\n",
       "</table>\n",
       "</div>"
      ],
      "text/plain": [
       "         date   price\n",
       "0  2022-08-05  61,500\n",
       "1  2022-08-04  61,500\n",
       "2  2022-08-03  61,300\n",
       "3  2022-08-02  61,700\n",
       "4  2022-08-01  61,300"
      ]
     },
     "execution_count": 43,
     "metadata": {},
     "output_type": "execute_result"
    }
   ],
   "source": [
    "SAMSUNG = get_stockdata('stock','005930',60,1)\n",
    "SAMSUNG.head()"
   ]
  },
  {
   "cell_type": "code",
   "execution_count": 44,
   "id": "4d01bdf0",
   "metadata": {},
   "outputs": [],
   "source": [
    "KAKAO = get_stockdata('stock','035720',60,1)"
   ]
  },
  {
   "cell_type": "code",
   "execution_count": 47,
   "id": "d99bd8f6",
   "metadata": {},
   "outputs": [],
   "source": [
    "df.rename(columns = {'price' : 'KOSPI'}, inplace = True)"
   ]
  },
  {
   "cell_type": "code",
   "execution_count": 49,
   "id": "db1b0168",
   "metadata": {},
   "outputs": [],
   "source": [
    "df['SAMSUNG'], df['KAKAO'] = SAMSUNG['price'] , KAKAO['price']"
   ]
  },
  {
   "cell_type": "code",
   "execution_count": 50,
   "id": "aec672f5",
   "metadata": {},
   "outputs": [
    {
     "data": {
      "text/html": [
       "<div>\n",
       "<style scoped>\n",
       "    .dataframe tbody tr th:only-of-type {\n",
       "        vertical-align: middle;\n",
       "    }\n",
       "\n",
       "    .dataframe tbody tr th {\n",
       "        vertical-align: top;\n",
       "    }\n",
       "\n",
       "    .dataframe thead th {\n",
       "        text-align: right;\n",
       "    }\n",
       "</style>\n",
       "<table border=\"1\" class=\"dataframe\">\n",
       "  <thead>\n",
       "    <tr style=\"text-align: right;\">\n",
       "      <th></th>\n",
       "      <th>date</th>\n",
       "      <th>KOSPI</th>\n",
       "      <th>SAMSUNG</th>\n",
       "      <th>KAKAO</th>\n",
       "    </tr>\n",
       "  </thead>\n",
       "  <tbody>\n",
       "    <tr>\n",
       "      <th>0</th>\n",
       "      <td>2022-07-22</td>\n",
       "      <td>2,393.14</td>\n",
       "      <td>61,500</td>\n",
       "      <td>81,200</td>\n",
       "    </tr>\n",
       "    <tr>\n",
       "      <th>1</th>\n",
       "      <td>2022-07-21</td>\n",
       "      <td>2,409.16</td>\n",
       "      <td>61,500</td>\n",
       "      <td>81,700</td>\n",
       "    </tr>\n",
       "    <tr>\n",
       "      <th>2</th>\n",
       "      <td>2022-07-20</td>\n",
       "      <td>2,386.85</td>\n",
       "      <td>61,300</td>\n",
       "      <td>76,000</td>\n",
       "    </tr>\n",
       "    <tr>\n",
       "      <th>3</th>\n",
       "      <td>2022-07-19</td>\n",
       "      <td>2,370.97</td>\n",
       "      <td>61,700</td>\n",
       "      <td>71,800</td>\n",
       "    </tr>\n",
       "    <tr>\n",
       "      <th>4</th>\n",
       "      <td>2022-07-18</td>\n",
       "      <td>2,375.25</td>\n",
       "      <td>61,300</td>\n",
       "      <td>74,000</td>\n",
       "    </tr>\n",
       "    <tr>\n",
       "      <th>5</th>\n",
       "      <td>2022-07-15</td>\n",
       "      <td>2,330.98</td>\n",
       "      <td>61,400</td>\n",
       "      <td>74,800</td>\n",
       "    </tr>\n",
       "    <tr>\n",
       "      <th>6</th>\n",
       "      <td>2022-07-14</td>\n",
       "      <td>2,322.32</td>\n",
       "      <td>61,900</td>\n",
       "      <td>72,400</td>\n",
       "    </tr>\n",
       "    <tr>\n",
       "      <th>7</th>\n",
       "      <td>2022-07-13</td>\n",
       "      <td>2,328.61</td>\n",
       "      <td>61,800</td>\n",
       "      <td>71,900</td>\n",
       "    </tr>\n",
       "    <tr>\n",
       "      <th>8</th>\n",
       "      <td>2022-07-12</td>\n",
       "      <td>2,317.76</td>\n",
       "      <td>61,700</td>\n",
       "      <td>72,400</td>\n",
       "    </tr>\n",
       "    <tr>\n",
       "      <th>9</th>\n",
       "      <td>2022-07-11</td>\n",
       "      <td>2,340.27</td>\n",
       "      <td>61,100</td>\n",
       "      <td>73,000</td>\n",
       "    </tr>\n",
       "  </tbody>\n",
       "</table>\n",
       "</div>"
      ],
      "text/plain": [
       "         date     KOSPI SAMSUNG   KAKAO\n",
       "0  2022-07-22  2,393.14  61,500  81,200\n",
       "1  2022-07-21  2,409.16  61,500  81,700\n",
       "2  2022-07-20  2,386.85  61,300  76,000\n",
       "3  2022-07-19  2,370.97  61,700  71,800\n",
       "4  2022-07-18  2,375.25  61,300  74,000\n",
       "5  2022-07-15  2,330.98  61,400  74,800\n",
       "6  2022-07-14  2,322.32  61,900  72,400\n",
       "7  2022-07-13  2,328.61  61,800  71,900\n",
       "8  2022-07-12  2,317.76  61,700  72,400\n",
       "9  2022-07-11  2,340.27  61,100  73,000"
      ]
     },
     "execution_count": 50,
     "metadata": {},
     "output_type": "execute_result"
    }
   ],
   "source": [
    "df"
   ]
  },
  {
   "cell_type": "markdown",
   "id": "5ec42624",
   "metadata": {},
   "source": [
    "### 다음 증권 데이터 크롤링"
   ]
  },
  {
   "cell_type": "code",
   "execution_count": 51,
   "id": "e2dd4539",
   "metadata": {},
   "outputs": [],
   "source": [
    "url = 'https://finance.daum.net/api/quote/A035720/days?perPage=10&page=2&pagination=true'"
   ]
  },
  {
   "cell_type": "code",
   "execution_count": 56,
   "id": "78490e9a",
   "metadata": {},
   "outputs": [],
   "source": [
    "headers = {\n",
    "    'user-agent': 'Mozilla/5.0 (iPhone; CPU iPhone OS 13_2_3 like Mac OS X) AppleWebKit/605.1.15 \\\n",
    "(KHTML, like Gecko) Version/13.0.3 Mobile/15E148 Safari/604.1',\n",
    "    'referer': 'https://m.finance.daum.net/'\n",
    "    \n",
    "}"
   ]
  },
  {
   "cell_type": "code",
   "execution_count": 57,
   "id": "b508a400",
   "metadata": {},
   "outputs": [
    {
     "data": {
      "text/plain": [
       "<Response [200]>"
      ]
     },
     "execution_count": 57,
     "metadata": {},
     "output_type": "execute_result"
    }
   ],
   "source": [
    "response = requests.get(url,headers=headers)\n",
    "response"
   ]
  },
  {
   "cell_type": "code",
   "execution_count": 60,
   "id": "f735e506",
   "metadata": {},
   "outputs": [
    {
     "data": {
      "text/plain": [
       "[{'symbolCode': 'A035720',\n",
       "  'date': '2022-07-22 15:30:29',\n",
       "  'tradePrice': 72100.0,\n",
       "  'tradeTime': '15:30:29',\n",
       "  'change': 'FALL',\n",
       "  'changePrice': 1600.0,\n",
       "  'changeRate': -0.0217096336,\n",
       "  'prevClosingPrice': 73700.0,\n",
       "  'exchangeCountry': 'KOREA',\n",
       "  'openingPrice': 73500.0,\n",
       "  'highPrice': 73600.0,\n",
       "  'lowPrice': 71600.0,\n",
       "  'accTradePrice': 115820353800,\n",
       "  'accTradeVolume': 1601677,\n",
       "  'periodTradePrice': 115820353800,\n",
       "  'periodTradeVolume': 1601677,\n",
       "  'listedSharesCount': None},\n",
       " {'symbolCode': 'A035720',\n",
       "  'date': '2022-07-21 15:30:20',\n",
       "  'tradePrice': 73700.0,\n",
       "  'tradeTime': '15:30:20',\n",
       "  'change': 'RISE',\n",
       "  'changePrice': 300.0,\n",
       "  'changeRate': 0.0040871935,\n",
       "  'prevClosingPrice': 73400.0,\n",
       "  'exchangeCountry': 'KOREA',\n",
       "  'openingPrice': 73900.0,\n",
       "  'highPrice': 75000.0,\n",
       "  'lowPrice': 73500.0,\n",
       "  'accTradePrice': 92179877000,\n",
       "  'accTradeVolume': 1244024,\n",
       "  'periodTradePrice': 92179877000,\n",
       "  'periodTradeVolume': 1244024,\n",
       "  'listedSharesCount': None},\n",
       " {'symbolCode': 'A035720',\n",
       "  'date': '2022-07-20 15:30:15',\n",
       "  'tradePrice': 73400.0,\n",
       "  'tradeTime': '15:30:15',\n",
       "  'change': 'RISE',\n",
       "  'changePrice': 600.0,\n",
       "  'changeRate': 0.0082417582,\n",
       "  'prevClosingPrice': 72800.0,\n",
       "  'exchangeCountry': 'KOREA',\n",
       "  'openingPrice': 74700.0,\n",
       "  'highPrice': 75600.0,\n",
       "  'lowPrice': 73100.0,\n",
       "  'accTradePrice': 130911689800,\n",
       "  'accTradeVolume': 1758524,\n",
       "  'periodTradePrice': 130911689800,\n",
       "  'periodTradeVolume': 1758524,\n",
       "  'listedSharesCount': None},\n",
       " {'symbolCode': 'A035720',\n",
       "  'date': '2022-07-19 15:30:29',\n",
       "  'tradePrice': 72800.0,\n",
       "  'tradeTime': '15:30:29',\n",
       "  'change': 'EVEN',\n",
       "  'changePrice': 0.0,\n",
       "  'changeRate': 0,\n",
       "  'prevClosingPrice': 72800.0,\n",
       "  'exchangeCountry': 'KOREA',\n",
       "  'openingPrice': 72000.0,\n",
       "  'highPrice': 73200.0,\n",
       "  'lowPrice': 71600.0,\n",
       "  'accTradePrice': 68553410700,\n",
       "  'accTradeVolume': 949001,\n",
       "  'periodTradePrice': 68553410700,\n",
       "  'periodTradeVolume': 949001,\n",
       "  'listedSharesCount': None},\n",
       " {'symbolCode': 'A035720',\n",
       "  'date': '2022-07-18 15:30:02',\n",
       "  'tradePrice': 72800.0,\n",
       "  'tradeTime': '15:30:02',\n",
       "  'change': 'RISE',\n",
       "  'changePrice': 2700.0,\n",
       "  'changeRate': 0.0385164051,\n",
       "  'prevClosingPrice': 70100.0,\n",
       "  'exchangeCountry': 'KOREA',\n",
       "  'openingPrice': 71100.0,\n",
       "  'highPrice': 73200.0,\n",
       "  'lowPrice': 70600.0,\n",
       "  'accTradePrice': 122165961100,\n",
       "  'accTradeVolume': 1690739,\n",
       "  'periodTradePrice': 122165961100,\n",
       "  'periodTradeVolume': 1690739,\n",
       "  'listedSharesCount': None},\n",
       " {'symbolCode': 'A035720',\n",
       "  'date': '2022-07-15 15:30:08',\n",
       "  'tradePrice': 70100.0,\n",
       "  'tradeTime': '15:30:08',\n",
       "  'change': 'FALL',\n",
       "  'changePrice': 2000.0,\n",
       "  'changeRate': -0.027739251,\n",
       "  'prevClosingPrice': 72100.0,\n",
       "  'exchangeCountry': 'KOREA',\n",
       "  'openingPrice': 72100.0,\n",
       "  'highPrice': 72200.0,\n",
       "  'lowPrice': 69400.0,\n",
       "  'accTradePrice': 112791505900,\n",
       "  'accTradeVolume': 1605289,\n",
       "  'periodTradePrice': 112791505900,\n",
       "  'periodTradeVolume': 1605289,\n",
       "  'listedSharesCount': None},\n",
       " {'symbolCode': 'A035720',\n",
       "  'date': '2022-07-14 15:30:19',\n",
       "  'tradePrice': 72100.0,\n",
       "  'tradeTime': '15:30:19',\n",
       "  'change': 'RISE',\n",
       "  'changePrice': 200.0,\n",
       "  'changeRate': 0.0027816412,\n",
       "  'prevClosingPrice': 71900.0,\n",
       "  'exchangeCountry': 'KOREA',\n",
       "  'openingPrice': 71000.0,\n",
       "  'highPrice': 73400.0,\n",
       "  'lowPrice': 70400.0,\n",
       "  'accTradePrice': 114769725400,\n",
       "  'accTradeVolume': 1597400,\n",
       "  'periodTradePrice': 114769725400,\n",
       "  'periodTradeVolume': 1597400,\n",
       "  'listedSharesCount': None},\n",
       " {'symbolCode': 'A035720',\n",
       "  'date': '2022-07-13 15:30:27',\n",
       "  'tradePrice': 71900.0,\n",
       "  'tradeTime': '15:30:27',\n",
       "  'change': 'RISE',\n",
       "  'changePrice': 1600.0,\n",
       "  'changeRate': 0.0227596017,\n",
       "  'prevClosingPrice': 70300.0,\n",
       "  'exchangeCountry': 'KOREA',\n",
       "  'openingPrice': 70100.0,\n",
       "  'highPrice': 72200.0,\n",
       "  'lowPrice': 70100.0,\n",
       "  'accTradePrice': 82679427100,\n",
       "  'accTradeVolume': 1156844,\n",
       "  'periodTradePrice': 82679427100,\n",
       "  'periodTradeVolume': 1156844,\n",
       "  'listedSharesCount': None},\n",
       " {'symbolCode': 'A035720',\n",
       "  'date': '2022-07-12 15:30:06',\n",
       "  'tradePrice': 70300.0,\n",
       "  'tradeTime': '15:30:06',\n",
       "  'change': 'FALL',\n",
       "  'changePrice': 1000.0,\n",
       "  'changeRate': -0.0140252454,\n",
       "  'prevClosingPrice': 71300.0,\n",
       "  'exchangeCountry': 'KOREA',\n",
       "  'openingPrice': 70700.0,\n",
       "  'highPrice': 71000.0,\n",
       "  'lowPrice': 69400.0,\n",
       "  'accTradePrice': 75752698100,\n",
       "  'accTradeVolume': 1082539,\n",
       "  'periodTradePrice': 75752698100,\n",
       "  'periodTradeVolume': 1082539,\n",
       "  'listedSharesCount': None},\n",
       " {'symbolCode': 'A035720',\n",
       "  'date': '2022-07-11 15:30:11',\n",
       "  'tradePrice': 71300.0,\n",
       "  'tradeTime': '15:30:11',\n",
       "  'change': 'FALL',\n",
       "  'changePrice': 500.0,\n",
       "  'changeRate': -0.0069637883,\n",
       "  'prevClosingPrice': 71800.0,\n",
       "  'exchangeCountry': 'KOREA',\n",
       "  'openingPrice': 71900.0,\n",
       "  'highPrice': 72800.0,\n",
       "  'lowPrice': 71100.0,\n",
       "  'accTradePrice': 70398774400,\n",
       "  'accTradeVolume': 979002,\n",
       "  'periodTradePrice': 70398774400,\n",
       "  'periodTradeVolume': 979002,\n",
       "  'listedSharesCount': None}]"
      ]
     },
     "execution_count": 60,
     "metadata": {},
     "output_type": "execute_result"
    }
   ],
   "source": [
    "result = response.json()\n",
    "result['data']"
   ]
  },
  {
   "cell_type": "code",
   "execution_count": 61,
   "id": "a6234074",
   "metadata": {},
   "outputs": [
    {
     "data": {
      "text/plain": [
       "['2022-07-22 15:30:29',\n",
       " '2022-07-21 15:30:20',\n",
       " '2022-07-20 15:30:15',\n",
       " '2022-07-19 15:30:29',\n",
       " '2022-07-18 15:30:02',\n",
       " '2022-07-15 15:30:08',\n",
       " '2022-07-14 15:30:19',\n",
       " '2022-07-13 15:30:27',\n",
       " '2022-07-12 15:30:06',\n",
       " '2022-07-11 15:30:11']"
      ]
     },
     "execution_count": 61,
     "metadata": {},
     "output_type": "execute_result"
    }
   ],
   "source": [
    "date = [date['date'] for date in result['data']]\n",
    "date"
   ]
  },
  {
   "cell_type": "code",
   "execution_count": 63,
   "id": "dd2cd841",
   "metadata": {},
   "outputs": [
    {
     "data": {
      "text/plain": [
       "[72100.0,\n",
       " 73700.0,\n",
       " 73400.0,\n",
       " 72800.0,\n",
       " 72800.0,\n",
       " 70100.0,\n",
       " 72100.0,\n",
       " 71900.0,\n",
       " 70300.0,\n",
       " 71300.0]"
      ]
     },
     "execution_count": 63,
     "metadata": {},
     "output_type": "execute_result"
    }
   ],
   "source": [
    "tradeprice = [tradeprice['tradePrice'] for tradeprice in result['data']]\n",
    "tradeprice"
   ]
  },
  {
   "cell_type": "code",
   "execution_count": 65,
   "id": "40df2e84",
   "metadata": {},
   "outputs": [
    {
     "data": {
      "text/html": [
       "<div>\n",
       "<style scoped>\n",
       "    .dataframe tbody tr th:only-of-type {\n",
       "        vertical-align: middle;\n",
       "    }\n",
       "\n",
       "    .dataframe tbody tr th {\n",
       "        vertical-align: top;\n",
       "    }\n",
       "\n",
       "    .dataframe thead th {\n",
       "        text-align: right;\n",
       "    }\n",
       "</style>\n",
       "<table border=\"1\" class=\"dataframe\">\n",
       "  <thead>\n",
       "    <tr style=\"text-align: right;\">\n",
       "      <th></th>\n",
       "      <th>date</th>\n",
       "      <th>kakao</th>\n",
       "    </tr>\n",
       "  </thead>\n",
       "  <tbody>\n",
       "    <tr>\n",
       "      <th>0</th>\n",
       "      <td>2022-07-22 15:30:29</td>\n",
       "      <td>72100.0</td>\n",
       "    </tr>\n",
       "    <tr>\n",
       "      <th>1</th>\n",
       "      <td>2022-07-21 15:30:20</td>\n",
       "      <td>73700.0</td>\n",
       "    </tr>\n",
       "    <tr>\n",
       "      <th>2</th>\n",
       "      <td>2022-07-20 15:30:15</td>\n",
       "      <td>73400.0</td>\n",
       "    </tr>\n",
       "    <tr>\n",
       "      <th>3</th>\n",
       "      <td>2022-07-19 15:30:29</td>\n",
       "      <td>72800.0</td>\n",
       "    </tr>\n",
       "    <tr>\n",
       "      <th>4</th>\n",
       "      <td>2022-07-18 15:30:02</td>\n",
       "      <td>72800.0</td>\n",
       "    </tr>\n",
       "    <tr>\n",
       "      <th>5</th>\n",
       "      <td>2022-07-15 15:30:08</td>\n",
       "      <td>70100.0</td>\n",
       "    </tr>\n",
       "    <tr>\n",
       "      <th>6</th>\n",
       "      <td>2022-07-14 15:30:19</td>\n",
       "      <td>72100.0</td>\n",
       "    </tr>\n",
       "    <tr>\n",
       "      <th>7</th>\n",
       "      <td>2022-07-13 15:30:27</td>\n",
       "      <td>71900.0</td>\n",
       "    </tr>\n",
       "    <tr>\n",
       "      <th>8</th>\n",
       "      <td>2022-07-12 15:30:06</td>\n",
       "      <td>70300.0</td>\n",
       "    </tr>\n",
       "    <tr>\n",
       "      <th>9</th>\n",
       "      <td>2022-07-11 15:30:11</td>\n",
       "      <td>71300.0</td>\n",
       "    </tr>\n",
       "  </tbody>\n",
       "</table>\n",
       "</div>"
      ],
      "text/plain": [
       "                  date    kakao\n",
       "0  2022-07-22 15:30:29  72100.0\n",
       "1  2022-07-21 15:30:20  73700.0\n",
       "2  2022-07-20 15:30:15  73400.0\n",
       "3  2022-07-19 15:30:29  72800.0\n",
       "4  2022-07-18 15:30:02  72800.0\n",
       "5  2022-07-15 15:30:08  70100.0\n",
       "6  2022-07-14 15:30:19  72100.0\n",
       "7  2022-07-13 15:30:27  71900.0\n",
       "8  2022-07-12 15:30:06  70300.0\n",
       "9  2022-07-11 15:30:11  71300.0"
      ]
     },
     "execution_count": 65,
     "metadata": {},
     "output_type": "execute_result"
    }
   ],
   "source": [
    "data = {\n",
    "    'date' : date,\n",
    "    'kakao' : tradeprice\n",
    "}\n",
    "\n",
    "df = pd.DataFrame(data)\n",
    "df"
   ]
  },
  {
   "cell_type": "code",
   "execution_count": 66,
   "id": "193a17ac",
   "metadata": {},
   "outputs": [
    {
     "data": {
      "text/plain": [
       "<AxesSubplot:>"
      ]
     },
     "execution_count": 66,
     "metadata": {},
     "output_type": "execute_result"
    },
    {
     "data": {
      "image/png": "[encoded data removed]",
      "text/plain": [
       "<Figure size 432x288 with 1 Axes>"
      ]
     },
     "metadata": {
      "needs_background": "light"
     },
     "output_type": "display_data"
    }
   ],
   "source": [
    "df.plot()"
   ]
  },
  {
   "cell_type": "code",
   "execution_count": null,
   "id": "a1c72dae",
   "metadata": {},
   "outputs": [],
   "source": []
  }
 ],
 "metadata": {
  "kernelspec": {
   "display_name": "Python 3 (ipykernel)",
   "language": "python",
   "name": "python3"
  },
  "language_info": {
   "codemirror_mode": {
    "name": "ipython",
    "version": 3
   },
   "file_extension": ".py",
   "mimetype": "text/x-python",
   "name": "python",
   "nbconvert_exporter": "python",
   "pygments_lexer": "ipython3",
   "version": "3.7.13"
  }
 },
 "nbformat": 4,
 "nbformat_minor": 5
}
